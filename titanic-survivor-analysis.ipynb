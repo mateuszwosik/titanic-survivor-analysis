{
  "cells": [
    {
      "metadata": {
        "_uuid": "c90f44fea993c3403833903de155b0d88650959e"
      },
      "cell_type": "markdown",
      "source": "Titanic Survivor Analysis"
    },
    {
      "metadata": {
        "_uuid": "8f2839f25d086af736a60e9eeb907d3b93b6e0e5",
        "_cell_guid": "b1076dfc-b9ad-4769-8c92-a6c4dae69d19",
        "trusted": true,
        "_kg_hide-input": false
      },
      "cell_type": "code",
      "source": "# This Python 3 environment comes with many helpful analytics libraries installed\n# It is defined by the kaggle/python docker image: https://github.com/kaggle/docker-python\n# For example, here's several helpful packages to load in \n\nimport numpy as np # linear algebra\nimport pandas as pd # data processing, CSV file I/O (e.g. pd.read_csv)\nimport seaborn as sns # library used for data visualization\nimport matplotlib.pyplot as plt # library used for data visualization\nimport re # library to work with Regular Expressions\nfrom sklearn.preprocessing import LabelEncoder # used to encode categorical features to numerical ones\n\n# Input data files are available in the \"../input/\" directory.\n# For example, running this (by clicking run or pressing Shift+Enter) will list the files in the input directory\n\nimport os\nprint(os.listdir(\"../input\"))\n\n# Any results you write to the current directory are saved as output.\n\n# Suppress warnings\nimport warnings  \nwarnings.filterwarnings('ignore')",
      "execution_count": null,
      "outputs": []
    },
    {
      "metadata": {
        "_cell_guid": "79c7e3d0-c299-4dcb-8224-4455121ee9b0",
        "_uuid": "d629ff2d2480ee46fbb7e2d37f6b5fab8052498a",
        "trusted": true
      },
      "cell_type": "code",
      "source": "# Read train and test data\ntrain = pd.read_csv('../input/train.csv')\ntest = pd.read_csv('../input/test.csv')\n\n# Print shape of train and test data\nprint(\"Train shape:{}\".format(train.shape))\nprint(\"Test shape:{}\".format(test.shape))",
      "execution_count": null,
      "outputs": []
    },
    {
      "metadata": {
        "trusted": true,
        "_uuid": "e95d8ec3cd191691cd03d45b4e680dcdd013db14"
      },
      "cell_type": "code",
      "source": "# Show first rows from train\ntrain.head()",
      "execution_count": null,
      "outputs": []
    },
    {
      "metadata": {
        "_uuid": "dca3b4244d934b9c633b8f8a8281ae86d02d24e6"
      },
      "cell_type": "markdown",
      "source": "Feature description:\n* PassengerId: ID of a passenger\n* Survived: if passenger survived sinking of the Titanic (1 - survived, 0 - didn't survived)\n* Pclass: passenger class (1, 2 or 3)\n* Name: full name of the passenger\n* Sex: passenger sex  (male or feamale)\n* Age: passenger age in years\n* SibSp: number of siblings or spouses aboard the Titanic\n* Parch: number of parents or children aboard the Titanic\n* Ticket: ticket number\n* Fare: passenger fare\n* Cabin: passenger cabin number\n* Embarked: port of embarkation (S = Southampton, C = Cherbourg, Q = Queenstown)"
    },
    {
      "metadata": {
        "trusted": true,
        "_uuid": "cb52c799322611cbde573f7892965f0044209073"
      },
      "cell_type": "code",
      "source": "# Describe train numeric features\ntrain.describe()",
      "execution_count": null,
      "outputs": []
    },
    {
      "metadata": {
        "trusted": true,
        "_uuid": "474e352e590d7399fd53b105c41db323f1a69b58"
      },
      "cell_type": "code",
      "source": "# Check which data is missing in train dataset\ntrain.isnull().sum()",
      "execution_count": null,
      "outputs": []
    },
    {
      "metadata": {
        "_uuid": "4ccd6eed33580a83e4f5853eee89a56b234a3220"
      },
      "cell_type": "markdown",
      "source": "Only three features with missing data: Age, Cabin and Embarked."
    },
    {
      "metadata": {
        "trusted": true,
        "_uuid": "749e8f57cd139bb639bcd5b22dbee082d5b9fdc6"
      },
      "cell_type": "code",
      "source": "# Check which data is missing in test dataset\ntest.isnull().sum()",
      "execution_count": null,
      "outputs": []
    },
    {
      "metadata": {
        "_uuid": "27fc9504e2e8330835669b240b3957aa58524afa",
        "trusted": true
      },
      "cell_type": "code",
      "source": "# How many passengers survived?\ntrain['Survived'].value_counts().plot(kind='bar')\ntrain['Survived'].value_counts()\n\n# Only around 30% of passengers survived",
      "execution_count": null,
      "outputs": []
    },
    {
      "metadata": {
        "trusted": true,
        "_uuid": "c23b880cbb391135c69c94b90a13ca3599c4750c"
      },
      "cell_type": "code",
      "source": "# How many passengers were in each calss?\ntrain['Pclass'].value_counts().sort_index().plot(kind='bar')\ntrain['Pclass'].value_counts().sort_index()\n\n# As we can see most passengers traveled in 3rd class (low socioeconomic status)",
      "execution_count": null,
      "outputs": []
    },
    {
      "metadata": {
        "trusted": true,
        "_uuid": "bc04a39c6bdb74760a92101a7776e9717822ecba"
      },
      "cell_type": "code",
      "source": "# How many people survived in each class?\nsns.countplot(x='Pclass', hue='Survived', data=train)\npd.crosstab(train['Pclass'], train['Survived'])\n\n# In 2nd class more passengers survived than died (slightly, but still).",
      "execution_count": null,
      "outputs": []
    },
    {
      "metadata": {
        "trusted": true,
        "_uuid": "ce51c6212a2b3240b661f14519cc742aad556d92"
      },
      "cell_type": "code",
      "source": "",
      "execution_count": null,
      "outputs": []
    },
    {
      "metadata": {
        "trusted": true,
        "_uuid": "801adcd44bec4758c9d9a3cf8d9b480fb4dfb1d5"
      },
      "cell_type": "code",
      "source": "# How age was importat to survival?\nsns.violinplot(x='Survived', y='Age', data=train)\n\n# As we can see the age was important only in case of children in favour of their survival.",
      "execution_count": null,
      "outputs": []
    },
    {
      "metadata": {
        "trusted": true,
        "_uuid": "870723823bc348183d05e333ae8edf960ed89257"
      },
      "cell_type": "code",
      "source": "# What is mean, median age based on the passenger class?\ntrain.groupby(['Pclass','Sex'])['Age'].aggregate(['mean','median','max','min'])",
      "execution_count": null,
      "outputs": []
    },
    {
      "metadata": {
        "trusted": true,
        "_uuid": "64f10a433e39f474e06bbcf9b300c1ec8935c79c"
      },
      "cell_type": "code",
      "source": "# Lets fill in missing values for age with median age based on passenger class and their sex.\ntrain.loc[train['Age'].isnull(), 'Age'] = train.groupby(['Pclass','Sex'])['Age'].transform('median')\ntest.loc[test['Age'].isnull(), 'Age'] = test.groupby(['Pclass','Sex'])['Age'].transform('median')",
      "execution_count": null,
      "outputs": []
    },
    {
      "metadata": {
        "trusted": true,
        "_uuid": "8e0a4395b2b3dd70b657e6c4c63c76cce9155ba3"
      },
      "cell_type": "code",
      "source": "# Bin age\nbins = [0,10,20,30,40,50,60,70,80]\ntrain['AgeBin'] = pd.cut(train['Age'], bins)\ntest['AgeBin'] = pd.cut(test['Age'], bins)",
      "execution_count": null,
      "outputs": []
    },
    {
      "metadata": {
        "trusted": true,
        "_uuid": "dc3587c4052b94f067d7de5d7c3be1a3d3071572"
      },
      "cell_type": "code",
      "source": "# Display age bins of survived passengers (closer look which can be already observed in violin plot)\ntrain[train['Survived'] == 1]['AgeBin'].value_counts().sort_index().plot(kind='bar')",
      "execution_count": null,
      "outputs": []
    },
    {
      "metadata": {
        "trusted": true,
        "_uuid": "5dc065c68ff06288c72c03ab6328e9b870ceeb6f"
      },
      "cell_type": "code",
      "source": "# So, how may passengers survived in case of passenger below age of 20?\ntrain[train['Age'] < 18]['Survived'].value_counts().apply(\n    lambda x: x/len(train[train['Age'] < 18])).plot(kind='pie')\n\n# As we can see slighty more then half of the children (age < 18) survived. ",
      "execution_count": null,
      "outputs": []
    },
    {
      "metadata": {
        "trusted": true,
        "_uuid": "f9c9dfdad158d8b04001bda1e7dce9e7e802a5d1"
      },
      "cell_type": "code",
      "source": "# How sex was important for survival?\nsns.catplot(hue='Sex',x='Survived',data=train, kind='count')\ntrain.groupby('Sex')['Survived'].value_counts()",
      "execution_count": null,
      "outputs": []
    },
    {
      "metadata": {
        "trusted": true,
        "_uuid": "22371703a52279a993295cf394f8aa09f0a3ff51"
      },
      "cell_type": "code",
      "source": "# How sex based on passenger class was important for survival?\nsns.catplot(x='Pclass', y='Survived', hue='Sex', data=train, kind='violin', split='ture')",
      "execution_count": null,
      "outputs": []
    },
    {
      "metadata": {
        "trusted": true,
        "_uuid": "e30abe18dfc558dbd65dd2474726558a715c9039"
      },
      "cell_type": "code",
      "source": "# Before plotting data based on feature Embarked, we need to fill in missing values.\nprint(train['Embarked'].value_counts())\n\n# We will fill in missing values with the most common one. In this case is 'S'.\ntrain.loc[train['Embarked'].isnull(), 'Embarked'] = 'S'",
      "execution_count": null,
      "outputs": []
    },
    {
      "metadata": {
        "trusted": true,
        "_uuid": "88f139b863f9b286b0df627ba72803c6e5b34d35"
      },
      "cell_type": "code",
      "source": "# Is port where passenger embark on Titanic important for survival?\nsns.violinplot(x='Embarked', y='Survived', data=train)\ntrain.groupby('Embarked')['Survived'].value_counts()\n\n# It does not matter in which port the passenger boarded the Titanic.\n# His chances of survival among the other people from this port were around 50%.\n# Conclusion: port is probably not important. \n# People who boarded the Titanic in C were more likely to survive among the other people from the same port.",
      "execution_count": null,
      "outputs": []
    },
    {
      "metadata": {
        "trusted": true,
        "_uuid": "5435a834e33bf62215db8829a0f37d729a4f25dd"
      },
      "cell_type": "code",
      "source": "# Having a parent or children aboard was important for survival?\nsns.countplot(x='Parch', hue='Survived', data=train)\ntrain.groupby('Parch')['Survived'].value_counts()\n\n# Having more children or parents aboard slightly decreases chances of survival.",
      "execution_count": null,
      "outputs": []
    },
    {
      "metadata": {
        "trusted": true,
        "_uuid": "54cf062456c38956f73679f19d71cbcfcfc6bdbb"
      },
      "cell_type": "code",
      "source": "# Having siblings or spouse aboard was important for survival?\nsns.countplot(x='SibSp', hue='Survived', data=train)\ntrain.groupby('SibSp')['Survived'].value_counts()\n\n# Having more than 2 SibSp decrease chances of survival.",
      "execution_count": null,
      "outputs": []
    },
    {
      "metadata": {
        "trusted": true,
        "_uuid": "e5ffd007a4b2a2469cd15b7fe924a57ac27ff185"
      },
      "cell_type": "code",
      "source": "# Create new feature FamilySize = SibSp + Parch\ntrain['FamilySize'] = train['SibSp'] + train['Parch']\ntest['FamilySize'] = test['SibSp'] + test['Parch']",
      "execution_count": null,
      "outputs": []
    },
    {
      "metadata": {
        "trusted": true,
        "_uuid": "23322f91e58b8227ca45f3e852dd6cae3a9fd7d0"
      },
      "cell_type": "code",
      "source": "# How family size was important for survival\nsns.factorplot(x='FamilySize', y='Survived', data=train, kind='bar')\npd.crosstab(train['FamilySize'], train['Survived'])\n\n# Passengers that had 1-3 family members had better chance for survival. \n# Specialy in case of famly size 3. Big families weren't so luckly.",
      "execution_count": null,
      "outputs": []
    },
    {
      "metadata": {
        "trusted": true,
        "_uuid": "f9599897395254fee07e02c3688e324d5d54be6b"
      },
      "cell_type": "code",
      "source": "# How much of cabin data is missing?\nprint(\"Missed data in Cabin = {:.2}%\".format(train['Cabin'].isnull().sum()/len(train['Cabin'])))\n\n# Although there is a lot of missing values (so lot that this feature should be excluded \n# before training the model) lets try to get some insights from the data there is avaiable.",
      "execution_count": null,
      "outputs": []
    },
    {
      "metadata": {
        "trusted": true,
        "_uuid": "d55cce46da6387fd10f78cd9a8fcb3de74640508"
      },
      "cell_type": "code",
      "source": "# Create new feature (deck) based on first letter from cabin.\n# Missing values will be assigned to deck 'n'.\ntrain['Deck'] = train['Cabin'].astype(str).apply(lambda x: x[0])\ntest['Deck'] = test['Cabin'].astype(str).apply(lambda x: x[0])",
      "execution_count": null,
      "outputs": []
    },
    {
      "metadata": {
        "trusted": true,
        "_uuid": "81aac5ac61d82236622ee12b4da88249fa409629"
      },
      "cell_type": "code",
      "source": "# How many passengers survived based on deck where their cabin was located?\nsns.countplot(x='Deck', hue='Survived', data=train, order=np.sort(train['Deck'].unique()))\n\n# In decks B,C,D,E,F there are more passengers that survived than died.",
      "execution_count": null,
      "outputs": []
    },
    {
      "metadata": {
        "trusted": true,
        "_uuid": "e72a8a48d51b44ef5d22bf7bc8ac24a3dc12990f"
      },
      "cell_type": "code",
      "source": "# How deck is connected with fare and survival rate?\nsns.boxplot(x='Deck', y='Fare', hue='Survived', data=train, order=np.sort(train['Deck'].unique()))\ntrain.groupby('Deck')['Fare'].aggregate(['min','max','mean','median','count'])\n\n# Deck that are more expensive had higher rate of survival.",
      "execution_count": null,
      "outputs": []
    },
    {
      "metadata": {
        "trusted": true,
        "_uuid": "388c526a845832dd0071433eae89d0b2213d0e42"
      },
      "cell_type": "code",
      "source": "# Is passengers class based on fare?\ng = sns.FacetGrid(train, hue=\"Pclass\", height=4, aspect=2)\ng = g.map(sns.distplot, \"Fare\", bins=5)\n\ntrain.groupby('Pclass')['Fare'].aggregate(['min','max','mean','median','count'])\n\n# As we can see higher class mean higher fare (blue=1st, orange=2nd, green=3rd).\n# We could try to guess passenger deck based on fare and class:\n# 3rd -> G,F,T\n# 2nd -> A,E,D\n# 1st -> C,B\n# But we will not do it, because there is too much data missing\n# and we could fit model on wrong features.",
      "execution_count": null,
      "outputs": []
    },
    {
      "metadata": {
        "trusted": true,
        "_uuid": "df2f56f84ee98bea11ee57362be6923a27ff8d6c"
      },
      "cell_type": "code",
      "source": "# Lets try to get some insights from Name\n# Get title from passenger name\ntrain['Title'] = train['Name'].apply(lambda x: re.search(' ([A-z]+)\\.', x).group(1))\ntest['Title'] = test['Name'].apply(lambda x: re.search(' ([A-z]+)\\.', x). group(1))\n\n# Get count of all titles\nsns.countplot(y='Title', hue='Survived', data=train,)\ntrain['Title'].value_counts()",
      "execution_count": null,
      "outputs": []
    },
    {
      "metadata": {
        "trusted": true,
        "_uuid": "c712c4f4dcf6df37ddd8a5b89f29ba5683552193"
      },
      "cell_type": "code",
      "source": "# There is a lot of titles with a small count. Lets group them in some way.\ntitle_dict = {\n    'Mr': 'Mr', # adult man (regardless of marital status)\n    'Mrs': 'Mrs', # adult woman (married women, widows, and divorcées)\n    'Mme': 'Mrs', # french title equivalent to english Ms\n    'Ms': 'Mrs', # adult woman (regardless of marital status)\n    'Miss': 'Miss', # female children and unmarried women\n    'Mlle': 'Miss', # french title given to an unmarried woman (equivalent to english Miss)\n    'Master':  'Master', # male children (young boys)\n    'Major': 'Officer', # military rank\n    'Col': 'Officer', # military rank\n    'Capt': 'Officer', # military rank\n    'Lady': 'Royalty',\n    'Sir': 'Royalty',\n    'Don': 'Royalty',\n    'Dona': 'Royalty',\n    'Countess': 'Royalty', \n    'Jonkheer': 'Royalty', # lowest rank within the nobility\n    'Rev': 'Rev', # the Reverend\n    'Dr': 'Dr' # academic title\n}\n\ntrain['Title'] = train['Title'].map(title_dict)\ntest['Title'] = test['Title'].map(title_dict)",
      "execution_count": null,
      "outputs": []
    },
    {
      "metadata": {
        "trusted": true,
        "_uuid": "f7642e051212390674e716b51fdf415364455743"
      },
      "cell_type": "code",
      "source": "# How title (grouped) was important in survival?\nsns.countplot(x='Title', hue='Survived', data=train)\npd.crosstab(train['Title'], train['Survived'])\n\n# So we can see what we already know, first they saved women and children.\n# One important thing that we can see, is that young boys were taken after womens (adults and children).\n# This is what we can suspect from plot below.",
      "execution_count": null,
      "outputs": []
    },
    {
      "metadata": {
        "trusted": true,
        "_uuid": "24c68cd7eec1367cf36ac0d27d5cd053ff980d1a"
      },
      "cell_type": "code",
      "source": "# Since the young boys were not so eagerly saved, it's worth taking a closer look at them.\nprint(train[train['Title'] == 'Master']['Age'].aggregate(['min','max','mean','median']))\n\nsurvived_boys = train[(train['Title'] == 'Master') &\n                    (train['Survived'] == 1)]\ndead_boys = train[(train['Title'] == 'Master') &\n                    (train['Survived'] == 0)]\n\nsns.distplot(survived_boys['Age'], bins=5, color='orange')\nsns.distplot(dead_boys['Age'], bins=5, color='blue')\n\n# There is no patter so we could predict which boys survived and which don't.",
      "execution_count": null,
      "outputs": []
    },
    {
      "metadata": {
        "trusted": true,
        "_uuid": "7201251db50c9334e58d8892d0b8193cef04db30"
      },
      "cell_type": "code",
      "source": "# How class and age of boys were connected with their survival?\nsns.catplot(x='Pclass', y='Age', hue='Survived', data=train[train['Title'] == 'Master'], \n            kind='violin', split='ture')\npd.crosstab(train[train['Title'] == 'Master']['Pclass'],train[train['Title'] == 'Master']['Survived'])\n\n# Young boys were saved in first place only if\n# they traveled in 1st or 2nd class (every one of them survived).",
      "execution_count": null,
      "outputs": []
    },
    {
      "metadata": {
        "trusted": true,
        "_uuid": "9328fa309b70d2a211cb1f01d7f54d1336efd3aa"
      },
      "cell_type": "code",
      "source": "# Before training model, it is better to chnage Fare from numerical values to some categories.\n# Lets asume below categories:\n# (79+]     = very_high\n# (44-79]   = high\n# (19-44]   = above_average\n# (9-19]    = normal\n# (-1-9]    = cheap\n# NaN       = unknown\n\n# Create bins and corresponding categories\nfare_bins = [-20, -1, 9, 19, 44, 79, 700]\nfare_bins_cat = ['unknown','cheap','normal','above_average','high','very_high']\n\n# Fill in missing values with value -10\ntrain['Fare'] = train['Fare'].fillna(-10)\ntest['Fare'] = test['Fare'].fillna(-10)\n\n# Create new feature FareBin\ntrain['FareBin'] = pd.cut(train['Fare'], fare_bins, labels=fare_bins_cat)\ntest['FareBin'] = pd.cut(test['Fare'], fare_bins, labels=fare_bins_cat)",
      "execution_count": null,
      "outputs": []
    },
    {
      "metadata": {
        "trusted": true,
        "_uuid": "62fc41a6f03c5d0fdeafd1c5b77404ce22cf3bcb"
      },
      "cell_type": "code",
      "source": "# Is fare range connected with survival?\nsns.countplot('FareBin', hue='Survived', data=train)\n\n# What we already known: higher price, higher survival rate",
      "execution_count": null,
      "outputs": []
    },
    {
      "metadata": {
        "trusted": true,
        "_uuid": "ed9c0b81891416f7850e0360013f40a457a38e90"
      },
      "cell_type": "code",
      "source": "# Get Ticket prefix\n#train['TicketPrefix'] = train['Ticket'].apply(lambda x: re.search('([A-z]+.*)( )', x).group(1)\n#                                              .replace('.','').replace(' ','') \n#                                              if re.search('[A-z]+.* ', x) != None \n#                                              else 'NUMBER')",
      "execution_count": null,
      "outputs": []
    },
    {
      "metadata": {
        "_uuid": "671445bc60f070cebae285d398e607f5ce1b3f29"
      },
      "cell_type": "markdown",
      "source": "Feature preparation"
    },
    {
      "metadata": {
        "trusted": true,
        "_uuid": "0e1ab0c3f60f4345b91263bf509925beb8fbbb2a"
      },
      "cell_type": "code",
      "source": "# We need to save passengerId from test set, because it will be needed in creating the output file.\npassengerId = test['PassengerId']\n\n# Firstly lets remove all unnecessary features\nfeatures_to_remove = ['PassengerId','Ticket','Cabin','Name','Age','Fare']\ntrain.drop(features_to_remove, axis=1, inplace=True)\ntest.drop(features_to_remove, axis=1, inplace=True)",
      "execution_count": null,
      "outputs": []
    },
    {
      "metadata": {
        "trusted": true,
        "_uuid": "132b72e32a1e422dbd5f1033b82b72da3f69a2cb"
      },
      "cell_type": "code",
      "source": "# Secondly we need to convert categorical features (objects) to numerical ones before fitting the model\n# There are two possibilities to achive this, use pandas get_dummies or use LabelEncoder.\n# I will use LabelEncoder to keep the number of fatures low.\n# To keep code clean I will create simple function that will encode selected features.\ndef encode_feature(train, test, features):\n    data_combined = pd.concat([train[features], test[features]])\n    for feature in features:\n        label_encoder = LabelEncoder().fit(data_combined[feature])\n        train[feature] = label_encoder.transform(train[feature])\n        test[feature] = label_encoder.transform(test[feature])\n    return train, test\n\ntrain, test = encode_feature(train, test, ['Sex','Embarked','AgeBin','Deck','Title','FareBin'])",
      "execution_count": null,
      "outputs": []
    },
    {
      "metadata": {
        "trusted": true,
        "_uuid": "66b16ab4690191a8c3312d6c71a2928f078c7f60"
      },
      "cell_type": "code",
      "source": "# Lets check our data after encoding features\ntrain.head()",
      "execution_count": null,
      "outputs": []
    },
    {
      "metadata": {
        "trusted": true,
        "_uuid": "848679ed1f7bfd72093570b01aaed0113393fd17"
      },
      "cell_type": "code",
      "source": "# Plot correlation of data\nplt.figure(figsize=(16,8))\nsns.heatmap(train.corr(), linewidth=.5, annot=True)",
      "execution_count": null,
      "outputs": []
    },
    {
      "metadata": {
        "_uuid": "4e1d512fd38dda29d0666357c6917f52be56f78b"
      },
      "cell_type": "markdown",
      "source": "Model"
    },
    {
      "metadata": {
        "trusted": true,
        "_uuid": "766bb87fd59454be7a9f986e7c2f835602e9f5cc"
      },
      "cell_type": "code",
      "source": "# Model imports\nfrom sklearn.model_selection import train_test_split\nfrom sklearn.model_selection import StratifiedKFold\nfrom sklearn.model_selection import cross_val_score\nfrom sklearn.model_selection import GridSearchCV\nfrom sklearn.metrics import accuracy_score\nfrom sklearn.metrics import make_scorer\n\nfrom sklearn.ensemble import RandomForestClassifier\nfrom sklearn.linear_model import LogisticRegression\nfrom xgboost import XGBClassifier",
      "execution_count": null,
      "outputs": []
    },
    {
      "metadata": {
        "trusted": true,
        "_uuid": "5598b1033fabc068f4910ffc6f86c39c6b865422"
      },
      "cell_type": "code",
      "source": "# Get training features (X) and output label (y)\nX = train.drop(['Survived'], axis=1)\ny = train['Survived']\n\n# Split X data to train and validation sets\nX_train, X_test, y_train, y_test = train_test_split(X, y, test_size=0.2, random_state=1)\n\n# Simple function that evaluate model\ndef score(model, X, y):\n    cv = StratifiedKFold(n_splits=5, shuffle=True)\n    scores = cross_val_score(model, X, y, cv=cv)\n    print(\"Accuracy: %0.2f (+/- %0.2f)\" % (scores.mean(), scores.std()))",
      "execution_count": null,
      "outputs": []
    },
    {
      "metadata": {
        "trusted": true,
        "_uuid": "a986f25a2e9a2e93d470020861c1154d7155b0fd"
      },
      "cell_type": "code",
      "source": "rfc = RandomForestClassifier(random_state=7)\nscore(rfc, X, y)",
      "execution_count": null,
      "outputs": []
    },
    {
      "metadata": {
        "trusted": true,
        "_uuid": "f0abb8f2f3840d6a84f6637efe6794b85c95e37c"
      },
      "cell_type": "code",
      "source": "lr = LogisticRegression(random_state=7)\nscore(lr, X, y)",
      "execution_count": null,
      "outputs": []
    },
    {
      "metadata": {
        "trusted": true,
        "_uuid": "068c48a6dde4c1d2db7638b57858042cd5c0123b"
      },
      "cell_type": "code",
      "source": "xgb = XGBClassifier(random_state=7)\nscore(xgb, X, y)",
      "execution_count": null,
      "outputs": []
    },
    {
      "metadata": {
        "trusted": true,
        "_uuid": "74aa5a9a15185a6dde5fe07564bf8f0b0d78ae79"
      },
      "cell_type": "markdown",
      "source": "Submition"
    },
    {
      "metadata": {
        "trusted": true,
        "_uuid": "639e777f364f48e067d095e2482198e954c164e2"
      },
      "cell_type": "code",
      "source": "# We will submit predictions from XGBoostClassifier\n# Fit model with all data\nxgb.fit(X,y)\n# Make predictions for test data\npredictions = xgb.predict(test)\n\n# Create submission file\nsubmission = pd.DataFrame({\n        'PassengerId': passengerId,\n        'Survived': predictions\n    })\nsubmission.to_csv('submission.csv', index=False)",
      "execution_count": null,
      "outputs": []
    },
    {
      "metadata": {
        "_uuid": "94eb106c9c36d4fa2c5a53a318a47d533aa17b4a"
      },
      "cell_type": "markdown",
      "source": "NOTES:\n* AgeSentinel - missing age data with strange value (for example -100), so model will know that this data should be treated differently.\n* Select parameters for the models to boost accuracy.\n* Change order of categorial features before passing them to LabelEncoder (order is important!)\n\nReferences:\n* [titanic-eda-keras-nn-pipelines](https://www.kaggle.com/kabure/titanic-eda-keras-nn-pipelines)\n* [a-comprehensive-ml-workflow-with-python](https://www.kaggle.com/mjbahmani/a-comprehensive-ml-workflow-with-python)"
    }
  ],
  "metadata": {
    "kernelspec": {
      "display_name": "Python 3",
      "language": "python",
      "name": "python3"
    },
    "language_info": {
      "name": "python",
      "version": "3.6.6",
      "mimetype": "text/x-python",
      "codemirror_mode": {
        "name": "ipython",
        "version": 3
      },
      "pygments_lexer": "ipython3",
      "nbconvert_exporter": "python",
      "file_extension": ".py"
    }
  },
  "nbformat": 4,
  "nbformat_minor": 1
}