{
 "cells": [
  {
   "cell_type": "markdown",
   "metadata": {
    "_uuid": "c90f44fea993c3403833903de155b0d88650959e"
   },
   "source": [
    "Titanic Survivor Analysis"
   ]
  },
  {
   "cell_type": "code",
   "execution_count": 1,
   "metadata": {
    "_cell_guid": "b1076dfc-b9ad-4769-8c92-a6c4dae69d19",
    "_kg_hide-input": false,
    "_uuid": "8f2839f25d086af736a60e9eeb907d3b93b6e0e5"
   },
   "outputs": [
    {
     "name": "stdout",
     "output_type": "stream",
     "text": [
      "['gender_submission.csv', 'test.csv', 'train.csv']\n"
     ]
    }
   ],
   "source": [
    "# This Python 3 environment comes with many helpful analytics libraries installed\n",
    "# It is defined by the kaggle/python docker image: https://github.com/kaggle/docker-python\n",
    "# For example, here's several helpful packages to load in \n",
    "\n",
    "import numpy as np # linear algebra\n",
    "import pandas as pd # data processing, CSV file I/O (e.g. pd.read_csv)\n",
    "import seaborn as sns # library used for data visualization\n",
    "import matplotlib.pyplot as plt # library used for data visualization\n",
    "import re # library to work with Regular Expressions\n",
    "from sklearn.preprocessing import LabelEncoder # used to encode categorical features to numerical ones\n",
    "\n",
    "# Input data files are available in the \"../input/\" directory.\n",
    "# For example, running this (by clicking run or pressing Shift+Enter) will list the files in the input directory\n",
    "\n",
    "import os\n",
    "print(os.listdir(\"../input\"))\n",
    "\n",
    "# Any results you write to the current directory are saved as output.\n",
    "\n",
    "# Suppress warnings\n",
    "import warnings  \n",
    "warnings.filterwarnings('ignore')"
   ]
  },
  {
   "cell_type": "code",
   "execution_count": 2,
   "metadata": {
    "_cell_guid": "79c7e3d0-c299-4dcb-8224-4455121ee9b0",
    "_uuid": "d629ff2d2480ee46fbb7e2d37f6b5fab8052498a"
   },
   "outputs": [
    {
     "name": "stdout",
     "output_type": "stream",
     "text": [
      "Train shape:(891, 12)\n",
      "Test shape:(418, 11)\n"
     ]
    }
   ],
   "source": [
    "# Read train and test data\n",
    "train = pd.read_csv('../input/train.csv')\n",
    "test = pd.read_csv('../input/test.csv')\n",
    "\n",
    "# Print shape of train and test data\n",
    "print(\"Train shape:{}\".format(train.shape))\n",
    "print(\"Test shape:{}\".format(test.shape))"
   ]
  },
  {
   "cell_type": "code",
   "execution_count": 3,
   "metadata": {
    "_uuid": "e95d8ec3cd191691cd03d45b4e680dcdd013db14"
   },
   "outputs": [
    {
     "data": {
      "text/html": [
       "<div>\n",
       "<style scoped>\n",
       "    .dataframe tbody tr th:only-of-type {\n",
       "        vertical-align: middle;\n",
       "    }\n",
       "\n",
       "    .dataframe tbody tr th {\n",
       "        vertical-align: top;\n",
       "    }\n",
       "\n",
       "    .dataframe thead th {\n",
       "        text-align: right;\n",
       "    }\n",
       "</style>\n",
       "<table border=\"1\" class=\"dataframe\">\n",
       "  <thead>\n",
       "    <tr style=\"text-align: right;\">\n",
       "      <th></th>\n",
       "      <th>PassengerId</th>\n",
       "      <th>Survived</th>\n",
       "      <th>Pclass</th>\n",
       "      <th>Name</th>\n",
       "      <th>Sex</th>\n",
       "      <th>Age</th>\n",
       "      <th>SibSp</th>\n",
       "      <th>Parch</th>\n",
       "      <th>Ticket</th>\n",
       "      <th>Fare</th>\n",
       "      <th>Cabin</th>\n",
       "      <th>Embarked</th>\n",
       "    </tr>\n",
       "  </thead>\n",
       "  <tbody>\n",
       "    <tr>\n",
       "      <th>0</th>\n",
       "      <td>1</td>\n",
       "      <td>0</td>\n",
       "      <td>3</td>\n",
       "      <td>Braund, Mr. Owen Harris</td>\n",
       "      <td>male</td>\n",
       "      <td>22.0</td>\n",
       "      <td>1</td>\n",
       "      <td>0</td>\n",
       "      <td>A/5 21171</td>\n",
       "      <td>7.2500</td>\n",
       "      <td>NaN</td>\n",
       "      <td>S</td>\n",
       "    </tr>\n",
       "    <tr>\n",
       "      <th>1</th>\n",
       "      <td>2</td>\n",
       "      <td>1</td>\n",
       "      <td>1</td>\n",
       "      <td>Cumings, Mrs. John Bradley (Florence Briggs Th...</td>\n",
       "      <td>female</td>\n",
       "      <td>38.0</td>\n",
       "      <td>1</td>\n",
       "      <td>0</td>\n",
       "      <td>PC 17599</td>\n",
       "      <td>71.2833</td>\n",
       "      <td>C85</td>\n",
       "      <td>C</td>\n",
       "    </tr>\n",
       "    <tr>\n",
       "      <th>2</th>\n",
       "      <td>3</td>\n",
       "      <td>1</td>\n",
       "      <td>3</td>\n",
       "      <td>Heikkinen, Miss. Laina</td>\n",
       "      <td>female</td>\n",
       "      <td>26.0</td>\n",
       "      <td>0</td>\n",
       "      <td>0</td>\n",
       "      <td>STON/O2. 3101282</td>\n",
       "      <td>7.9250</td>\n",
       "      <td>NaN</td>\n",
       "      <td>S</td>\n",
       "    </tr>\n",
       "    <tr>\n",
       "      <th>3</th>\n",
       "      <td>4</td>\n",
       "      <td>1</td>\n",
       "      <td>1</td>\n",
       "      <td>Futrelle, Mrs. Jacques Heath (Lily May Peel)</td>\n",
       "      <td>female</td>\n",
       "      <td>35.0</td>\n",
       "      <td>1</td>\n",
       "      <td>0</td>\n",
       "      <td>113803</td>\n",
       "      <td>53.1000</td>\n",
       "      <td>C123</td>\n",
       "      <td>S</td>\n",
       "    </tr>\n",
       "    <tr>\n",
       "      <th>4</th>\n",
       "      <td>5</td>\n",
       "      <td>0</td>\n",
       "      <td>3</td>\n",
       "      <td>Allen, Mr. William Henry</td>\n",
       "      <td>male</td>\n",
       "      <td>35.0</td>\n",
       "      <td>0</td>\n",
       "      <td>0</td>\n",
       "      <td>373450</td>\n",
       "      <td>8.0500</td>\n",
       "      <td>NaN</td>\n",
       "      <td>S</td>\n",
       "    </tr>\n",
       "  </tbody>\n",
       "</table>\n",
       "</div>"
      ],
      "text/plain": [
       "   PassengerId  Survived  Pclass    ...        Fare Cabin  Embarked\n",
       "0            1         0       3    ...      7.2500   NaN         S\n",
       "1            2         1       1    ...     71.2833   C85         C\n",
       "2            3         1       3    ...      7.9250   NaN         S\n",
       "3            4         1       1    ...     53.1000  C123         S\n",
       "4            5         0       3    ...      8.0500   NaN         S\n",
       "\n",
       "[5 rows x 12 columns]"
      ]
     },
     "execution_count": 3,
     "metadata": {},
     "output_type": "execute_result"
    }
   ],
   "source": [
    "# Show first rows from train\n",
    "train.head()"
   ]
  },
  {
   "cell_type": "markdown",
   "metadata": {
    "_uuid": "dca3b4244d934b9c633b8f8a8281ae86d02d24e6"
   },
   "source": [
    "Feature description:\n",
    "* PassengerId: ID of a passenger\n",
    "* Survived: if passenger survived sinking of the Titanic (1 - survived, 0 - didn't survived)\n",
    "* Pclass: passenger class (1, 2 or 3)\n",
    "* Name: full name of the passenger\n",
    "* Sex: passenger sex  (male or feamale)\n",
    "* Age: passenger age in years\n",
    "* SibSp: number of siblings or spouses aboard the Titanic\n",
    "* Parch: number of parents or children aboard the Titanic\n",
    "* Ticket: ticket number\n",
    "* Fare: passenger fare\n",
    "* Cabin: passenger cabin number\n",
    "* Embarked: port of embarkation (S = Southampton, C = Cherbourg, Q = Queenstown)"
   ]
  },
  {
   "cell_type": "code",
   "execution_count": 4,
   "metadata": {
    "_uuid": "cb52c799322611cbde573f7892965f0044209073"
   },
   "outputs": [
    {
     "data": {
      "text/html": [
       "<div>\n",
       "<style scoped>\n",
       "    .dataframe tbody tr th:only-of-type {\n",
       "        vertical-align: middle;\n",
       "    }\n",
       "\n",
       "    .dataframe tbody tr th {\n",
       "        vertical-align: top;\n",
       "    }\n",
       "\n",
       "    .dataframe thead th {\n",
       "        text-align: right;\n",
       "    }\n",
       "</style>\n",
       "<table border=\"1\" class=\"dataframe\">\n",
       "  <thead>\n",
       "    <tr style=\"text-align: right;\">\n",
       "      <th></th>\n",
       "      <th>PassengerId</th>\n",
       "      <th>Survived</th>\n",
       "      <th>Pclass</th>\n",
       "      <th>Age</th>\n",
       "      <th>SibSp</th>\n",
       "      <th>Parch</th>\n",
       "      <th>Fare</th>\n",
       "    </tr>\n",
       "  </thead>\n",
       "  <tbody>\n",
       "    <tr>\n",
       "      <th>count</th>\n",
       "      <td>891.000000</td>\n",
       "      <td>891.000000</td>\n",
       "      <td>891.000000</td>\n",
       "      <td>714.000000</td>\n",
       "      <td>891.000000</td>\n",
       "      <td>891.000000</td>\n",
       "      <td>891.000000</td>\n",
       "    </tr>\n",
       "    <tr>\n",
       "      <th>mean</th>\n",
       "      <td>446.000000</td>\n",
       "      <td>0.383838</td>\n",
       "      <td>2.308642</td>\n",
       "      <td>29.699118</td>\n",
       "      <td>0.523008</td>\n",
       "      <td>0.381594</td>\n",
       "      <td>32.204208</td>\n",
       "    </tr>\n",
       "    <tr>\n",
       "      <th>std</th>\n",
       "      <td>257.353842</td>\n",
       "      <td>0.486592</td>\n",
       "      <td>0.836071</td>\n",
       "      <td>14.526497</td>\n",
       "      <td>1.102743</td>\n",
       "      <td>0.806057</td>\n",
       "      <td>49.693429</td>\n",
       "    </tr>\n",
       "    <tr>\n",
       "      <th>min</th>\n",
       "      <td>1.000000</td>\n",
       "      <td>0.000000</td>\n",
       "      <td>1.000000</td>\n",
       "      <td>0.420000</td>\n",
       "      <td>0.000000</td>\n",
       "      <td>0.000000</td>\n",
       "      <td>0.000000</td>\n",
       "    </tr>\n",
       "    <tr>\n",
       "      <th>25%</th>\n",
       "      <td>223.500000</td>\n",
       "      <td>0.000000</td>\n",
       "      <td>2.000000</td>\n",
       "      <td>20.125000</td>\n",
       "      <td>0.000000</td>\n",
       "      <td>0.000000</td>\n",
       "      <td>7.910400</td>\n",
       "    </tr>\n",
       "    <tr>\n",
       "      <th>50%</th>\n",
       "      <td>446.000000</td>\n",
       "      <td>0.000000</td>\n",
       "      <td>3.000000</td>\n",
       "      <td>28.000000</td>\n",
       "      <td>0.000000</td>\n",
       "      <td>0.000000</td>\n",
       "      <td>14.454200</td>\n",
       "    </tr>\n",
       "    <tr>\n",
       "      <th>75%</th>\n",
       "      <td>668.500000</td>\n",
       "      <td>1.000000</td>\n",
       "      <td>3.000000</td>\n",
       "      <td>38.000000</td>\n",
       "      <td>1.000000</td>\n",
       "      <td>0.000000</td>\n",
       "      <td>31.000000</td>\n",
       "    </tr>\n",
       "    <tr>\n",
       "      <th>max</th>\n",
       "      <td>891.000000</td>\n",
       "      <td>1.000000</td>\n",
       "      <td>3.000000</td>\n",
       "      <td>80.000000</td>\n",
       "      <td>8.000000</td>\n",
       "      <td>6.000000</td>\n",
       "      <td>512.329200</td>\n",
       "    </tr>\n",
       "  </tbody>\n",
       "</table>\n",
       "</div>"
      ],
      "text/plain": [
       "       PassengerId    Survived     ...           Parch        Fare\n",
       "count   891.000000  891.000000     ...      891.000000  891.000000\n",
       "mean    446.000000    0.383838     ...        0.381594   32.204208\n",
       "std     257.353842    0.486592     ...        0.806057   49.693429\n",
       "min       1.000000    0.000000     ...        0.000000    0.000000\n",
       "25%     223.500000    0.000000     ...        0.000000    7.910400\n",
       "50%     446.000000    0.000000     ...        0.000000   14.454200\n",
       "75%     668.500000    1.000000     ...        0.000000   31.000000\n",
       "max     891.000000    1.000000     ...        6.000000  512.329200\n",
       "\n",
       "[8 rows x 7 columns]"
      ]
     },
     "execution_count": 4,
     "metadata": {},
     "output_type": "execute_result"
    }
   ],
   "source": [
    "# Describe train numeric features\n",
    "train.describe()"
   ]
  },
  {
   "cell_type": "code",
   "execution_count": 5,
   "metadata": {
    "_uuid": "474e352e590d7399fd53b105c41db323f1a69b58"
   },
   "outputs": [
    {
     "data": {
      "text/plain": [
       "PassengerId      0\n",
       "Survived         0\n",
       "Pclass           0\n",
       "Name             0\n",
       "Sex              0\n",
       "Age            177\n",
       "SibSp            0\n",
       "Parch            0\n",
       "Ticket           0\n",
       "Fare             0\n",
       "Cabin          687\n",
       "Embarked         2\n",
       "dtype: int64"
      ]
     },
     "execution_count": 5,
     "metadata": {},
     "output_type": "execute_result"
    }
   ],
   "source": [
    "# Check which data is missing in train dataset\n",
    "train.isnull().sum()"
   ]
  },
  {
   "cell_type": "markdown",
   "metadata": {
    "_uuid": "4ccd6eed33580a83e4f5853eee89a56b234a3220"
   },
   "source": [
    "Only three features with missing data: Age, Cabin and Embarked."
   ]
  },
  {
   "cell_type": "code",
   "execution_count": 6,
   "metadata": {
    "_uuid": "749e8f57cd139bb639bcd5b22dbee082d5b9fdc6"
   },
   "outputs": [
    {
     "data": {
      "text/plain": [
       "PassengerId      0\n",
       "Pclass           0\n",
       "Name             0\n",
       "Sex              0\n",
       "Age             86\n",
       "SibSp            0\n",
       "Parch            0\n",
       "Ticket           0\n",
       "Fare             1\n",
       "Cabin          327\n",
       "Embarked         0\n",
       "dtype: int64"
      ]
     },
     "execution_count": 6,
     "metadata": {},
     "output_type": "execute_result"
    }
   ],
   "source": [
    "# Check which data is missing in test dataset\n",
    "test.isnull().sum()"
   ]
  },
  {
   "cell_type": "code",
   "execution_count": 7,
   "metadata": {
    "_uuid": "27fc9504e2e8330835669b240b3957aa58524afa"
   },
   "outputs": [
    {
     "data": {
      "text/plain": [
       "0    549\n",
       "1    342\n",
       "Name: Survived, dtype: int64"
      ]
     },
     "execution_count": 7,
     "metadata": {},
     "output_type": "execute_result"
    },
    {
     "data": {
      "image/png": "[encoded data removed]",
      "text/plain": [
       "<Figure size 432x288 with 1 Axes>"
      ]
     },
     "metadata": {},
     "output_type": "display_data"
    }
   ],
   "source": [
    "# How many passengers survived?\n",
    "train['Survived'].value_counts().plot(kind='bar')\n",
    "train['Survived'].value_counts()\n",
    "\n",
    "# Only around 30% of passengers survived"
   ]
  },
  {
   "cell_type": "code",
   "execution_count": 8,
   "metadata": {
    "_uuid": "c23b880cbb391135c69c94b90a13ca3599c4750c"
   },
   "outputs": [
    {
     "data": {
      "text/plain": [
       "1    216\n",
       "2    184\n",
       "3    491\n",
       "Name: Pclass, dtype: int64"
      ]
     },
     "execution_count": 8,
     "metadata": {},
     "output_type": "execute_result"
    },
    {
     "data": {
      "image/png": "[encoded data removed]",
      "text/plain": [
       "<Figure size 432x288 with 1 Axes>"
      ]
     },
     "metadata": {},
     "output_type": "display_data"
    }
   ],
   "source": [
    "# How many passengers were in each calss?\n",
    "train['Pclass'].value_counts().sort_index().plot(kind='bar')\n",
    "train['Pclass'].value_counts().sort_index()\n",
    "\n",
    "# As we can see most passengers traveled in 3rd class (low socioeconomic status)"
   ]
  },
  {
   "cell_type": "code",
   "execution_count": 9,
   "metadata": {
    "_uuid": "bc04a39c6bdb74760a92101a7776e9717822ecba"
   },
   "outputs": [
    {
     "data": {
      "text/html": [
       "<div>\n",
       "<style scoped>\n",
       "    .dataframe tbody tr th:only-of-type {\n",
       "        vertical-align: middle;\n",
       "    }\n",
       "\n",
       "    .dataframe tbody tr th {\n",
       "        vertical-align: top;\n",
       "    }\n",
       "\n",
       "    .dataframe thead th {\n",
       "        text-align: right;\n",
       "    }\n",
       "</style>\n",
       "<table border=\"1\" class=\"dataframe\">\n",
       "  <thead>\n",
       "    <tr style=\"text-align: right;\">\n",
       "      <th>Survived</th>\n",
       "      <th>0</th>\n",
       "      <th>1</th>\n",
       "    </tr>\n",
       "    <tr>\n",
       "      <th>Pclass</th>\n",
       "      <th></th>\n",
       "      <th></th>\n",
       "    </tr>\n",
       "  </thead>\n",
       "  <tbody>\n",
       "    <tr>\n",
       "      <th>1</th>\n",
       "      <td>80</td>\n",
       "      <td>136</td>\n",
       "    </tr>\n",
       "    <tr>\n",
       "      <th>2</th>\n",
       "      <td>97</td>\n",
       "      <td>87</td>\n",
       "    </tr>\n",
       "    <tr>\n",
       "      <th>3</th>\n",
       "      <td>372</td>\n",
       "      <td>119</td>\n",
       "    </tr>\n",
       "  </tbody>\n",
       "</table>\n",
       "</div>"
      ],
      "text/plain": [
       "Survived    0    1\n",
       "Pclass            \n",
       "1          80  136\n",
       "2          97   87\n",
       "3         372  119"
      ]
     },
     "execution_count": 9,
     "metadata": {},
     "output_type": "execute_result"
    },
    {
     "data": {
      "image/png": "[encoded data removed]",
      "text/plain": [
       "<Figure size 432x288 with 1 Axes>"
      ]
     },
     "metadata": {},
     "output_type": "display_data"
    }
   ],
   "source": [
    "# How many people survived in each class?\n",
    "sns.countplot(x='Pclass', hue='Survived', data=train)\n",
    "pd.crosstab(train['Pclass'], train['Survived'])\n",
    "\n",
    "# In 2nd class more passengers survived than died (slightly, but still)."
   ]
  },
  {
   "cell_type": "code",
   "execution_count": 10,
   "metadata": {
    "_uuid": "ce51c6212a2b3240b661f14519cc742aad556d92"
   },
   "outputs": [],
   "source": []
  },
  {
   "cell_type": "code",
   "execution_count": 10,
   "metadata": {
    "_uuid": "801adcd44bec4758c9d9a3cf8d9b480fb4dfb1d5"
   },
   "outputs": [
    {
     "data": {
      "text/plain": [
       "<matplotlib.axes._subplots.AxesSubplot at 0x7fce359e3080>"
      ]
     },
     "execution_count": 10,
     "metadata": {},
     "output_type": "execute_result"
    },
    {
     "data": {
      "image/png": "[encoded data removed]",
      "text/plain": [
       "<Figure size 432x288 with 1 Axes>"
      ]
     },
     "metadata": {},
     "output_type": "display_data"
    }
   ],
   "source": [
    "# How age was importat to survival?\n",
    "sns.violinplot(x='Survived', y='Age', data=train)\n",
    "\n",
    "# As we can see the age was important only in case of children in favour of their survival."
   ]
  },
  {
   "cell_type": "code",
   "execution_count": 11,
   "metadata": {
    "_uuid": "870723823bc348183d05e333ae8edf960ed89257"
   },
   "outputs": [
    {
     "data": {
      "text/html": [
       "<div>\n",
       "<style scoped>\n",
       "    .dataframe tbody tr th:only-of-type {\n",
       "        vertical-align: middle;\n",
       "    }\n",
       "\n",
       "    .dataframe tbody tr th {\n",
       "        vertical-align: top;\n",
       "    }\n",
       "\n",
       "    .dataframe thead th {\n",
       "        text-align: right;\n",
       "    }\n",
       "</style>\n",
       "<table border=\"1\" class=\"dataframe\">\n",
       "  <thead>\n",
       "    <tr style=\"text-align: right;\">\n",
       "      <th></th>\n",
       "      <th></th>\n",
       "      <th>mean</th>\n",
       "      <th>median</th>\n",
       "      <th>max</th>\n",
       "      <th>min</th>\n",
       "    </tr>\n",
       "    <tr>\n",
       "      <th>Pclass</th>\n",
       "      <th>Sex</th>\n",
       "      <th></th>\n",
       "      <th></th>\n",
       "      <th></th>\n",
       "      <th></th>\n",
       "    </tr>\n",
       "  </thead>\n",
       "  <tbody>\n",
       "    <tr>\n",
       "      <th rowspan=\"2\" valign=\"top\">1</th>\n",
       "      <th>female</th>\n",
       "      <td>34.611765</td>\n",
       "      <td>35.0</td>\n",
       "      <td>63.0</td>\n",
       "      <td>2.00</td>\n",
       "    </tr>\n",
       "    <tr>\n",
       "      <th>male</th>\n",
       "      <td>41.281386</td>\n",
       "      <td>40.0</td>\n",
       "      <td>80.0</td>\n",
       "      <td>0.92</td>\n",
       "    </tr>\n",
       "    <tr>\n",
       "      <th rowspan=\"2\" valign=\"top\">2</th>\n",
       "      <th>female</th>\n",
       "      <td>28.722973</td>\n",
       "      <td>28.0</td>\n",
       "      <td>57.0</td>\n",
       "      <td>2.00</td>\n",
       "    </tr>\n",
       "    <tr>\n",
       "      <th>male</th>\n",
       "      <td>30.740707</td>\n",
       "      <td>30.0</td>\n",
       "      <td>70.0</td>\n",
       "      <td>0.67</td>\n",
       "    </tr>\n",
       "    <tr>\n",
       "      <th rowspan=\"2\" valign=\"top\">3</th>\n",
       "      <th>female</th>\n",
       "      <td>21.750000</td>\n",
       "      <td>21.5</td>\n",
       "      <td>63.0</td>\n",
       "      <td>0.75</td>\n",
       "    </tr>\n",
       "    <tr>\n",
       "      <th>male</th>\n",
       "      <td>26.507589</td>\n",
       "      <td>25.0</td>\n",
       "      <td>74.0</td>\n",
       "      <td>0.42</td>\n",
       "    </tr>\n",
       "  </tbody>\n",
       "</table>\n",
       "</div>"
      ],
      "text/plain": [
       "                    mean  median   max   min\n",
       "Pclass Sex                                  \n",
       "1      female  34.611765    35.0  63.0  2.00\n",
       "       male    41.281386    40.0  80.0  0.92\n",
       "2      female  28.722973    28.0  57.0  2.00\n",
       "       male    30.740707    30.0  70.0  0.67\n",
       "3      female  21.750000    21.5  63.0  0.75\n",
       "       male    26.507589    25.0  74.0  0.42"
      ]
     },
     "execution_count": 11,
     "metadata": {},
     "output_type": "execute_result"
    }
   ],
   "source": [
    "# What is mean, median age based on the passenger class?\n",
    "train.groupby(['Pclass','Sex'])['Age'].aggregate(['mean','median','max','min'])"
   ]
  },
  {
   "cell_type": "code",
   "execution_count": 12,
   "metadata": {
    "_uuid": "64f10a433e39f474e06bbcf9b300c1ec8935c79c"
   },
   "outputs": [],
   "source": [
    "# Lets fill in missing values for age with median age based on passenger class and their sex.\n",
    "train.loc[train['Age'].isnull(), 'Age'] = train.groupby(['Pclass','Sex'])['Age'].transform('median')\n",
    "test.loc[test['Age'].isnull(), 'Age'] = test.groupby(['Pclass','Sex'])['Age'].transform('median')"
   ]
  },
  {
   "cell_type": "code",
   "execution_count": 13,
   "metadata": {
    "_uuid": "8e0a4395b2b3dd70b657e6c4c63c76cce9155ba3"
   },
   "outputs": [],
   "source": [
    "# Bin age\n",
    "bins = [0,10,20,30,40,50,60,70,80]\n",
    "train['AgeBin'] = pd.cut(train['Age'], bins)\n",
    "test['AgeBin'] = pd.cut(test['Age'], bins)"
   ]
  },
  {
   "cell_type": "code",
   "execution_count": 14,
   "metadata": {
    "_uuid": "dc3587c4052b94f067d7de5d7c3be1a3d3071572"
   },
   "outputs": [
    {
     "data": {
      "text/plain": [
       "<matplotlib.axes._subplots.AxesSubplot at 0x7fce2bd153c8>"
      ]
     },
     "execution_count": 14,
     "metadata": {},
     "output_type": "execute_result"
    },
    {
     "data": {
      "image/png": "[encoded data removed]",
      "text/plain": [
       "<Figure size 432x288 with 1 Axes>"
      ]
     },
     "metadata": {},
     "output_type": "display_data"
    }
   ],
   "source": [
    "# Display age bins of survived passengers (closer look which can be already observed in violin plot)\n",
    "train[train['Survived'] == 1]['AgeBin'].value_counts().sort_index().plot(kind='bar')"
   ]
  },
  {
   "cell_type": "code",
   "execution_count": 15,
   "metadata": {
    "_uuid": "5dc065c68ff06288c72c03ab6328e9b870ceeb6f"
   },
   "outputs": [
    {
     "data": {
      "text/plain": [
       "<matplotlib.axes._subplots.AxesSubplot at 0x7fce2bc7e710>"
      ]
     },
     "execution_count": 15,
     "metadata": {},
     "output_type": "execute_result"
    },
    {
     "data": {
      "image/png": "[encoded data removed]",
      "text/plain": [
       "<Figure size 432x288 with 1 Axes>"
      ]
     },
     "metadata": {},
     "output_type": "display_data"
    }
   ],
   "source": [
    "# So, how may passengers survived in case of passenger below age of 20?\n",
    "train[train['Age'] < 18]['Survived'].value_counts().apply(\n",
    "    lambda x: x/len(train[train['Age'] < 18])).plot(kind='pie')\n",
    "\n",
    "# As we can see slighty more then half of the children (age < 18) survived. "
   ]
  },
  {
   "cell_type": "code",
   "execution_count": 16,
   "metadata": {
    "_uuid": "f9c9dfdad158d8b04001bda1e7dce9e7e802a5d1"
   },
   "outputs": [
    {
     "data": {
      "text/plain": [
       "Sex     Survived\n",
       "female  1           233\n",
       "        0            81\n",
       "male    0           468\n",
       "        1           109\n",
       "Name: Survived, dtype: int64"
      ]
     },
     "execution_count": 16,
     "metadata": {},
     "output_type": "execute_result"
    },
    {
     "data": {
      "image/png": "[encoded data removed]",
      "text/plain": [
       "<Figure size 430.5x360 with 1 Axes>"
      ]
     },
     "metadata": {},
     "output_type": "display_data"
    }
   ],
   "source": [
    "# How sex was important for survival?\n",
    "sns.catplot(hue='Sex',x='Survived',data=train, kind='count')\n",
    "train.groupby('Sex')['Survived'].value_counts()"
   ]
  },
  {
   "cell_type": "code",
   "execution_count": 17,
   "metadata": {
    "_uuid": "22371703a52279a993295cf394f8aa09f0a3ff51"
   },
   "outputs": [
    {
     "data": {
      "text/plain": [
       "<seaborn.axisgrid.FacetGrid at 0x7fce2bc3fe48>"
      ]
     },
     "execution_count": 17,
     "metadata": {},
     "output_type": "execute_result"
    },
    {
     "data": {
      "image/png": "[encoded data removed]",
      "text/plain": [
       "<Figure size 430.5x360 with 1 Axes>"
      ]
     },
     "metadata": {},
     "output_type": "display_data"
    }
   ],
   "source": [
    "# How sex based on passenger class was important for survival?\n",
    "sns.catplot(x='Pclass', y='Survived', hue='Sex', data=train, kind='violin', split='ture')"
   ]
  },
  {
   "cell_type": "code",
   "execution_count": 18,
   "metadata": {
    "_uuid": "e30abe18dfc558dbd65dd2474726558a715c9039"
   },
   "outputs": [
    {
     "name": "stdout",
     "output_type": "stream",
     "text": [
      "S    644\n",
      "C    168\n",
      "Q     77\n",
      "Name: Embarked, dtype: int64\n"
     ]
    }
   ],
   "source": [
    "# Before plotting data based on feature Embarked, we need to fill in missing values.\n",
    "print(train['Embarked'].value_counts())\n",
    "\n",
    "# We will fill in missing values with the most common one. In this case is 'S'.\n",
    "train.loc[train['Embarked'].isnull(), 'Embarked'] = 'S'"
   ]
  },
  {
   "cell_type": "code",
   "execution_count": 19,
   "metadata": {
    "_uuid": "88f139b863f9b286b0df627ba72803c6e5b34d35"
   },
   "outputs": [
    {
     "data": {
      "text/plain": [
       "Embarked  Survived\n",
       "C         1            93\n",
       "          0            75\n",
       "Q         0            47\n",
       "          1            30\n",
       "S         0           427\n",
       "          1           219\n",
       "Name: Survived, dtype: int64"
      ]
     },
     "execution_count": 19,
     "metadata": {},
     "output_type": "execute_result"
    },
    {
     "data": {
      "image/png": "[encoded data removed]",
      "text/plain": [
       "<Figure size 432x288 with 1 Axes>"
      ]
     },
     "metadata": {},
     "output_type": "display_data"
    }
   ],
   "source": [
    "# Is port where passenger embark on Titanic important for survival?\n",
    "sns.violinplot(x='Embarked', y='Survived', data=train)\n",
    "train.groupby('Embarked')['Survived'].value_counts()\n",
    "\n",
    "# It does not matter in which port the passenger boarded the Titanic.\n",
    "# His chances of survival among the other people from this port were around 50%.\n",
    "# Conclusion: port is probably not important. \n",
    "# People who boarded the Titanic in C were more likely to survive among the other people from the same port."
   ]
  },
  {
   "cell_type": "code",
   "execution_count": 20,
   "metadata": {
    "_uuid": "5435a834e33bf62215db8829a0f37d729a4f25dd"
   },
   "outputs": [
    {
     "data": {
      "text/plain": [
       "Parch  Survived\n",
       "0      0           445\n",
       "       1           233\n",
       "1      1            65\n",
       "       0            53\n",
       "2      0            40\n",
       "       1            40\n",
       "3      1             3\n",
       "       0             2\n",
       "4      0             4\n",
       "5      0             4\n",
       "       1             1\n",
       "6      0             1\n",
       "Name: Survived, dtype: int64"
      ]
     },
     "execution_count": 20,
     "metadata": {},
     "output_type": "execute_result"
    },
    {
     "data": {
      "image/png": "[encoded data removed]",
      "text/plain": [
       "<Figure size 432x288 with 1 Axes>"
      ]
     },
     "metadata": {},
     "output_type": "display_data"
    }
   ],
   "source": [
    "# Having a parent or children aboard was important for survival?\n",
    "sns.countplot(x='Parch', hue='Survived', data=train)\n",
    "train.groupby('Parch')['Survived'].value_counts()\n",
    "\n",
    "# Having more children or parents aboard slightly decreases chances of survival."
   ]
  },
  {
   "cell_type": "code",
   "execution_count": 21,
   "metadata": {
    "_uuid": "54cf062456c38956f73679f19d71cbcfcfc6bdbb"
   },
   "outputs": [
    {
     "data": {
      "text/plain": [
       "SibSp  Survived\n",
       "0      0           398\n",
       "       1           210\n",
       "1      1           112\n",
       "       0            97\n",
       "2      0            15\n",
       "       1            13\n",
       "3      0            12\n",
       "       1             4\n",
       "4      0            15\n",
       "       1             3\n",
       "5      0             5\n",
       "8      0             7\n",
       "Name: Survived, dtype: int64"
      ]
     },
     "execution_count": 21,
     "metadata": {},
     "output_type": "execute_result"
    },
    {
     "data": {
      "image/png": "[encoded data removed]",
      "text/plain": [
       "<Figure size 432x288 with 1 Axes>"
      ]
     },
     "metadata": {},
     "output_type": "display_data"
    }
   ],
   "source": [
    "# Having siblings or spouse aboard was important for survival?\n",
    "sns.countplot(x='SibSp', hue='Survived', data=train)\n",
    "train.groupby('SibSp')['Survived'].value_counts()\n",
    "\n",
    "# Having more than 2 SibSp decrease chances of survival."
   ]
  },
  {
   "cell_type": "code",
   "execution_count": 22,
   "metadata": {
    "_uuid": "e5ffd007a4b2a2469cd15b7fe924a57ac27ff185"
   },
   "outputs": [],
   "source": [
    "# Create new feature FamilySize = SibSp + Parch\n",
    "train['FamilySize'] = train['SibSp'] + train['Parch']\n",
    "test['FamilySize'] = test['SibSp'] + test['Parch']"
   ]
  },
  {
   "cell_type": "code",
   "execution_count": 23,
   "metadata": {
    "_uuid": "23322f91e58b8227ca45f3e852dd6cae3a9fd7d0"
   },
   "outputs": [
    {
     "data": {
      "text/html": [
       "<div>\n",
       "<style scoped>\n",
       "    .dataframe tbody tr th:only-of-type {\n",
       "        vertical-align: middle;\n",
       "    }\n",
       "\n",
       "    .dataframe tbody tr th {\n",
       "        vertical-align: top;\n",
       "    }\n",
       "\n",
       "    .dataframe thead th {\n",
       "        text-align: right;\n",
       "    }\n",
       "</style>\n",
       "<table border=\"1\" class=\"dataframe\">\n",
       "  <thead>\n",
       "    <tr style=\"text-align: right;\">\n",
       "      <th>Survived</th>\n",
       "      <th>0</th>\n",
       "      <th>1</th>\n",
       "    </tr>\n",
       "    <tr>\n",
       "      <th>FamilySize</th>\n",
       "      <th></th>\n",
       "      <th></th>\n",
       "    </tr>\n",
       "  </thead>\n",
       "  <tbody>\n",
       "    <tr>\n",
       "      <th>0</th>\n",
       "      <td>374</td>\n",
       "      <td>163</td>\n",
       "    </tr>\n",
       "    <tr>\n",
       "      <th>1</th>\n",
       "      <td>72</td>\n",
       "      <td>89</td>\n",
       "    </tr>\n",
       "    <tr>\n",
       "      <th>2</th>\n",
       "      <td>43</td>\n",
       "      <td>59</td>\n",
       "    </tr>\n",
       "    <tr>\n",
       "      <th>3</th>\n",
       "      <td>8</td>\n",
       "      <td>21</td>\n",
       "    </tr>\n",
       "    <tr>\n",
       "      <th>4</th>\n",
       "      <td>12</td>\n",
       "      <td>3</td>\n",
       "    </tr>\n",
       "    <tr>\n",
       "      <th>5</th>\n",
       "      <td>19</td>\n",
       "      <td>3</td>\n",
       "    </tr>\n",
       "    <tr>\n",
       "      <th>6</th>\n",
       "      <td>8</td>\n",
       "      <td>4</td>\n",
       "    </tr>\n",
       "    <tr>\n",
       "      <th>7</th>\n",
       "      <td>6</td>\n",
       "      <td>0</td>\n",
       "    </tr>\n",
       "    <tr>\n",
       "      <th>10</th>\n",
       "      <td>7</td>\n",
       "      <td>0</td>\n",
       "    </tr>\n",
       "  </tbody>\n",
       "</table>\n",
       "</div>"
      ],
      "text/plain": [
       "Survived      0    1\n",
       "FamilySize          \n",
       "0           374  163\n",
       "1            72   89\n",
       "2            43   59\n",
       "3             8   21\n",
       "4            12    3\n",
       "5            19    3\n",
       "6             8    4\n",
       "7             6    0\n",
       "10            7    0"
      ]
     },
     "execution_count": 23,
     "metadata": {},
     "output_type": "execute_result"
    },
    {
     "data": {
      "image/png": "[encoded data removed]",
      "text/plain": [
       "<Figure size 360x360 with 1 Axes>"
      ]
     },
     "metadata": {},
     "output_type": "display_data"
    }
   ],
   "source": [
    "# How family size was important for survival\n",
    "sns.factorplot(x='FamilySize', y='Survived', data=train, kind='bar')\n",
    "pd.crosstab(train['FamilySize'], train['Survived'])\n",
    "\n",
    "# Passengers that had 1-3 family members had better chance for survival. \n",
    "# Specialy in case of famly size 3. Big families weren't so luckly."
   ]
  },
  {
   "cell_type": "code",
   "execution_count": 24,
   "metadata": {
    "_uuid": "f9599897395254fee07e02c3688e324d5d54be6b"
   },
   "outputs": [
    {
     "name": "stdout",
     "output_type": "stream",
     "text": [
      "Missed data in Cabin = 0.77%\n"
     ]
    }
   ],
   "source": [
    "# How much of cabin data is missing?\n",
    "print(\"Missed data in Cabin = {:.2}%\".format(train['Cabin'].isnull().sum()/len(train['Cabin'])))\n",
    "\n",
    "# Although there is a lot of missing values (so lot that this feature should be excluded \n",
    "# before training the model) lets try to get some insights from the data there is avaiable."
   ]
  },
  {
   "cell_type": "code",
   "execution_count": 25,
   "metadata": {
    "_uuid": "d55cce46da6387fd10f78cd9a8fcb3de74640508"
   },
   "outputs": [],
   "source": [
    "# Create new feature (deck) based on first letter from cabin.\n",
    "# Missing values will be assigned to deck 'n'.\n",
    "train['Deck'] = train['Cabin'].astype(str).apply(lambda x: x[0])\n",
    "test['Deck'] = test['Cabin'].astype(str).apply(lambda x: x[0])"
   ]
  },
  {
   "cell_type": "code",
   "execution_count": 26,
   "metadata": {
    "_uuid": "81aac5ac61d82236622ee12b4da88249fa409629"
   },
   "outputs": [
    {
     "data": {
      "text/plain": [
       "<matplotlib.axes._subplots.AxesSubplot at 0x7fce296fba90>"
      ]
     },
     "execution_count": 26,
     "metadata": {},
     "output_type": "execute_result"
    },
    {
     "data": {
      "image/png": "[encoded data removed]",
      "text/plain": [
       "<Figure size 432x288 with 1 Axes>"
      ]
     },
     "metadata": {},
     "output_type": "display_data"
    }
   ],
   "source": [
    "# How many passengers survived based on deck where their cabin was located?\n",
    "sns.countplot(x='Deck', hue='Survived', data=train, order=np.sort(train['Deck'].unique()))\n",
    "\n",
    "# In decks B,C,D,E,F there are more passengers that survived than died."
   ]
  },
  {
   "cell_type": "code",
   "execution_count": 27,
   "metadata": {
    "_uuid": "e72a8a48d51b44ef5d22bf7bc8ac24a3dc12990f"
   },
   "outputs": [
    {
     "data": {
      "text/html": [
       "<div>\n",
       "<style scoped>\n",
       "    .dataframe tbody tr th:only-of-type {\n",
       "        vertical-align: middle;\n",
       "    }\n",
       "\n",
       "    .dataframe tbody tr th {\n",
       "        vertical-align: top;\n",
       "    }\n",
       "\n",
       "    .dataframe thead th {\n",
       "        text-align: right;\n",
       "    }\n",
       "</style>\n",
       "<table border=\"1\" class=\"dataframe\">\n",
       "  <thead>\n",
       "    <tr style=\"text-align: right;\">\n",
       "      <th></th>\n",
       "      <th>min</th>\n",
       "      <th>max</th>\n",
       "      <th>mean</th>\n",
       "      <th>median</th>\n",
       "      <th>count</th>\n",
       "    </tr>\n",
       "    <tr>\n",
       "      <th>Deck</th>\n",
       "      <th></th>\n",
       "      <th></th>\n",
       "      <th></th>\n",
       "      <th></th>\n",
       "      <th></th>\n",
       "    </tr>\n",
       "  </thead>\n",
       "  <tbody>\n",
       "    <tr>\n",
       "      <th>A</th>\n",
       "      <td>0.0000</td>\n",
       "      <td>81.8583</td>\n",
       "      <td>39.623887</td>\n",
       "      <td>35.50000</td>\n",
       "      <td>15</td>\n",
       "    </tr>\n",
       "    <tr>\n",
       "      <th>B</th>\n",
       "      <td>0.0000</td>\n",
       "      <td>512.3292</td>\n",
       "      <td>113.505764</td>\n",
       "      <td>80.00000</td>\n",
       "      <td>47</td>\n",
       "    </tr>\n",
       "    <tr>\n",
       "      <th>C</th>\n",
       "      <td>26.5500</td>\n",
       "      <td>263.0000</td>\n",
       "      <td>100.151341</td>\n",
       "      <td>83.47500</td>\n",
       "      <td>59</td>\n",
       "    </tr>\n",
       "    <tr>\n",
       "      <th>D</th>\n",
       "      <td>12.8750</td>\n",
       "      <td>113.2750</td>\n",
       "      <td>57.244576</td>\n",
       "      <td>53.10000</td>\n",
       "      <td>33</td>\n",
       "    </tr>\n",
       "    <tr>\n",
       "      <th>E</th>\n",
       "      <td>8.0500</td>\n",
       "      <td>134.5000</td>\n",
       "      <td>46.026694</td>\n",
       "      <td>45.18125</td>\n",
       "      <td>32</td>\n",
       "    </tr>\n",
       "    <tr>\n",
       "      <th>F</th>\n",
       "      <td>7.6500</td>\n",
       "      <td>39.0000</td>\n",
       "      <td>18.696792</td>\n",
       "      <td>13.00000</td>\n",
       "      <td>13</td>\n",
       "    </tr>\n",
       "    <tr>\n",
       "      <th>G</th>\n",
       "      <td>10.4625</td>\n",
       "      <td>16.7000</td>\n",
       "      <td>13.581250</td>\n",
       "      <td>13.58125</td>\n",
       "      <td>4</td>\n",
       "    </tr>\n",
       "    <tr>\n",
       "      <th>T</th>\n",
       "      <td>35.5000</td>\n",
       "      <td>35.5000</td>\n",
       "      <td>35.500000</td>\n",
       "      <td>35.50000</td>\n",
       "      <td>1</td>\n",
       "    </tr>\n",
       "    <tr>\n",
       "      <th>n</th>\n",
       "      <td>0.0000</td>\n",
       "      <td>512.3292</td>\n",
       "      <td>19.157325</td>\n",
       "      <td>10.50000</td>\n",
       "      <td>687</td>\n",
       "    </tr>\n",
       "  </tbody>\n",
       "</table>\n",
       "</div>"
      ],
      "text/plain": [
       "          min       max        mean    median  count\n",
       "Deck                                                \n",
       "A      0.0000   81.8583   39.623887  35.50000     15\n",
       "B      0.0000  512.3292  113.505764  80.00000     47\n",
       "C     26.5500  263.0000  100.151341  83.47500     59\n",
       "D     12.8750  113.2750   57.244576  53.10000     33\n",
       "E      8.0500  134.5000   46.026694  45.18125     32\n",
       "F      7.6500   39.0000   18.696792  13.00000     13\n",
       "G     10.4625   16.7000   13.581250  13.58125      4\n",
       "T     35.5000   35.5000   35.500000  35.50000      1\n",
       "n      0.0000  512.3292   19.157325  10.50000    687"
      ]
     },
     "execution_count": 27,
     "metadata": {},
     "output_type": "execute_result"
    },
    {
     "data": {
      "image/png": "[encoded data removed]",
      "text/plain": [
       "<Figure size 432x288 with 1 Axes>"
      ]
     },
     "metadata": {},
     "output_type": "display_data"
    }
   ],
   "source": [
    "# How deck is connected with fare and survival rate?\n",
    "sns.boxplot(x='Deck', y='Fare', hue='Survived', data=train, order=np.sort(train['Deck'].unique()))\n",
    "train.groupby('Deck')['Fare'].aggregate(['min','max','mean','median','count'])\n",
    "\n",
    "# Deck that are more expensive had higher rate of survival."
   ]
  },
  {
   "cell_type": "code",
   "execution_count": 28,
   "metadata": {
    "_uuid": "388c526a845832dd0071433eae89d0b2213d0e42"
   },
   "outputs": [
    {
     "data": {
      "text/html": [
       "<div>\n",
       "<style scoped>\n",
       "    .dataframe tbody tr th:only-of-type {\n",
       "        vertical-align: middle;\n",
       "    }\n",
       "\n",
       "    .dataframe tbody tr th {\n",
       "        vertical-align: top;\n",
       "    }\n",
       "\n",
       "    .dataframe thead th {\n",
       "        text-align: right;\n",
       "    }\n",
       "</style>\n",
       "<table border=\"1\" class=\"dataframe\">\n",
       "  <thead>\n",
       "    <tr style=\"text-align: right;\">\n",
       "      <th></th>\n",
       "      <th>min</th>\n",
       "      <th>max</th>\n",
       "      <th>mean</th>\n",
       "      <th>median</th>\n",
       "      <th>count</th>\n",
       "    </tr>\n",
       "    <tr>\n",
       "      <th>Pclass</th>\n",
       "      <th></th>\n",
       "      <th></th>\n",
       "      <th></th>\n",
       "      <th></th>\n",
       "      <th></th>\n",
       "    </tr>\n",
       "  </thead>\n",
       "  <tbody>\n",
       "    <tr>\n",
       "      <th>1</th>\n",
       "      <td>0.0</td>\n",
       "      <td>512.3292</td>\n",
       "      <td>84.154687</td>\n",
       "      <td>60.2875</td>\n",
       "      <td>216</td>\n",
       "    </tr>\n",
       "    <tr>\n",
       "      <th>2</th>\n",
       "      <td>0.0</td>\n",
       "      <td>73.5000</td>\n",
       "      <td>20.662183</td>\n",
       "      <td>14.2500</td>\n",
       "      <td>184</td>\n",
       "    </tr>\n",
       "    <tr>\n",
       "      <th>3</th>\n",
       "      <td>0.0</td>\n",
       "      <td>69.5500</td>\n",
       "      <td>13.675550</td>\n",
       "      <td>8.0500</td>\n",
       "      <td>491</td>\n",
       "    </tr>\n",
       "  </tbody>\n",
       "</table>\n",
       "</div>"
      ],
      "text/plain": [
       "        min       max       mean   median  count\n",
       "Pclass                                          \n",
       "1       0.0  512.3292  84.154687  60.2875    216\n",
       "2       0.0   73.5000  20.662183  14.2500    184\n",
       "3       0.0   69.5500  13.675550   8.0500    491"
      ]
     },
     "execution_count": 28,
     "metadata": {},
     "output_type": "execute_result"
    },
    {
     "data": {
      "image/png": "[encoded data removed]",
      "text/plain": [
       "<Figure size 576x288 with 1 Axes>"
      ]
     },
     "metadata": {},
     "output_type": "display_data"
    }
   ],
   "source": [
    "# Is passengers class based on fare?\n",
    "g = sns.FacetGrid(train, hue=\"Pclass\", height=4, aspect=2)\n",
    "g = g.map(sns.distplot, \"Fare\", bins=5)\n",
    "\n",
    "train.groupby('Pclass')['Fare'].aggregate(['min','max','mean','median','count'])\n",
    "\n",
    "# As we can see higher class mean higher fare (blue=1st, orange=2nd, green=3rd).\n",
    "# We could try to guess passenger deck based on fare and class:\n",
    "# 3rd -> G,F,T\n",
    "# 2nd -> A,E,D\n",
    "# 1st -> C,B\n",
    "# But we will not do it, because there is too much data missing\n",
    "# and we could fit model on wrong features."
   ]
  },
  {
   "cell_type": "code",
   "execution_count": 29,
   "metadata": {
    "_uuid": "df2f56f84ee98bea11ee57362be6923a27ff8d6c"
   },
   "outputs": [
    {
     "data": {
      "text/plain": [
       "Mr          517\n",
       "Miss        182\n",
       "Mrs         125\n",
       "Master       40\n",
       "Dr            7\n",
       "Rev           6\n",
       "Col           2\n",
       "Major         2\n",
       "Mlle          2\n",
       "Jonkheer      1\n",
       "Capt          1\n",
       "Lady          1\n",
       "Ms            1\n",
       "Don           1\n",
       "Mme           1\n",
       "Countess      1\n",
       "Sir           1\n",
       "Name: Title, dtype: int64"
      ]
     },
     "execution_count": 29,
     "metadata": {},
     "output_type": "execute_result"
    },
    {
     "data": {
      "image/png": "[encoded data removed]",
      "text/plain": [
       "<Figure size 432x288 with 1 Axes>"
      ]
     },
     "metadata": {},
     "output_type": "display_data"
    }
   ],
   "source": [
    "# Lets try to get some insights from Name\n",
    "# Get title from passenger name\n",
    "train['Title'] = train['Name'].apply(lambda x: re.search(' ([A-z]+)\\.', x).group(1))\n",
    "test['Title'] = test['Name'].apply(lambda x: re.search(' ([A-z]+)\\.', x). group(1))\n",
    "\n",
    "# Get count of all titles\n",
    "sns.countplot(y='Title', hue='Survived', data=train,)\n",
    "train['Title'].value_counts()"
   ]
  },
  {
   "cell_type": "code",
   "execution_count": 30,
   "metadata": {
    "_uuid": "c712c4f4dcf6df37ddd8a5b89f29ba5683552193"
   },
   "outputs": [],
   "source": [
    "# There is a lot of titles with a small count. Lets group them in some way.\n",
    "title_dict = {\n",
    "    'Mr': 'Mr', # adult man (regardless of marital status)\n",
    "    'Mrs': 'Mrs', # adult woman (married women, widows, and divorcées)\n",
    "    'Mme': 'Mrs', # french title equivalent to english Ms\n",
    "    'Ms': 'Mrs', # adult woman (regardless of marital status)\n",
    "    'Miss': 'Miss', # female children and unmarried women\n",
    "    'Mlle': 'Miss', # french title given to an unmarried woman (equivalent to english Miss)\n",
    "    'Master':  'Master', # male children (young boys)\n",
    "    'Major': 'Officer', # military rank\n",
    "    'Col': 'Officer', # military rank\n",
    "    'Capt': 'Officer', # military rank\n",
    "    'Lady': 'Royalty',\n",
    "    'Sir': 'Royalty',\n",
    "    'Don': 'Royalty',\n",
    "    'Dona': 'Royalty',\n",
    "    'Countess': 'Royalty', \n",
    "    'Jonkheer': 'Royalty', # lowest rank within the nobility\n",
    "    'Rev': 'Rev', # the Reverend\n",
    "    'Dr': 'Dr' # academic title\n",
    "}\n",
    "\n",
    "train['Title'] = train['Title'].map(title_dict)\n",
    "test['Title'] = test['Title'].map(title_dict)"
   ]
  },
  {
   "cell_type": "code",
   "execution_count": 31,
   "metadata": {
    "_uuid": "f7642e051212390674e716b51fdf415364455743"
   },
   "outputs": [
    {
     "data": {
      "text/html": [
       "<div>\n",
       "<style scoped>\n",
       "    .dataframe tbody tr th:only-of-type {\n",
       "        vertical-align: middle;\n",
       "    }\n",
       "\n",
       "    .dataframe tbody tr th {\n",
       "        vertical-align: top;\n",
       "    }\n",
       "\n",
       "    .dataframe thead th {\n",
       "        text-align: right;\n",
       "    }\n",
       "</style>\n",
       "<table border=\"1\" class=\"dataframe\">\n",
       "  <thead>\n",
       "    <tr style=\"text-align: right;\">\n",
       "      <th>Survived</th>\n",
       "      <th>0</th>\n",
       "      <th>1</th>\n",
       "    </tr>\n",
       "    <tr>\n",
       "      <th>Title</th>\n",
       "      <th></th>\n",
       "      <th></th>\n",
       "    </tr>\n",
       "  </thead>\n",
       "  <tbody>\n",
       "    <tr>\n",
       "      <th>Dr</th>\n",
       "      <td>4</td>\n",
       "      <td>3</td>\n",
       "    </tr>\n",
       "    <tr>\n",
       "      <th>Master</th>\n",
       "      <td>17</td>\n",
       "      <td>23</td>\n",
       "    </tr>\n",
       "    <tr>\n",
       "      <th>Miss</th>\n",
       "      <td>55</td>\n",
       "      <td>129</td>\n",
       "    </tr>\n",
       "    <tr>\n",
       "      <th>Mr</th>\n",
       "      <td>436</td>\n",
       "      <td>81</td>\n",
       "    </tr>\n",
       "    <tr>\n",
       "      <th>Mrs</th>\n",
       "      <td>26</td>\n",
       "      <td>101</td>\n",
       "    </tr>\n",
       "    <tr>\n",
       "      <th>Officer</th>\n",
       "      <td>3</td>\n",
       "      <td>2</td>\n",
       "    </tr>\n",
       "    <tr>\n",
       "      <th>Rev</th>\n",
       "      <td>6</td>\n",
       "      <td>0</td>\n",
       "    </tr>\n",
       "    <tr>\n",
       "      <th>Royalty</th>\n",
       "      <td>2</td>\n",
       "      <td>3</td>\n",
       "    </tr>\n",
       "  </tbody>\n",
       "</table>\n",
       "</div>"
      ],
      "text/plain": [
       "Survived    0    1\n",
       "Title             \n",
       "Dr          4    3\n",
       "Master     17   23\n",
       "Miss       55  129\n",
       "Mr        436   81\n",
       "Mrs        26  101\n",
       "Officer     3    2\n",
       "Rev         6    0\n",
       "Royalty     2    3"
      ]
     },
     "execution_count": 31,
     "metadata": {},
     "output_type": "execute_result"
    },
    {
     "data": {
      "image/png": "[encoded data removed]",
      "text/plain": [
       "<Figure size 432x288 with 1 Axes>"
      ]
     },
     "metadata": {},
     "output_type": "display_data"
    }
   ],
   "source": [
    "# How title (grouped) was important in survival?\n",
    "sns.countplot(x='Title', hue='Survived', data=train)\n",
    "pd.crosstab(train['Title'], train['Survived'])\n",
    "\n",
    "# So we can see what we already know, first they saved women and children.\n",
    "# One important thing that we can see, is that young boys were taken after womens (adults and children).\n",
    "# This is what we can suspect from plot below."
   ]
  },
  {
   "cell_type": "code",
   "execution_count": 32,
   "metadata": {
    "_uuid": "24c68cd7eec1367cf36ac0d27d5cd053ff980d1a"
   },
   "outputs": [
    {
     "name": "stdout",
     "output_type": "stream",
     "text": [
      "min        0.42000\n",
      "max       25.00000\n",
      "mean       6.61675\n",
      "median     4.00000\n",
      "Name: Age, dtype: float64\n"
     ]
    },
    {
     "data": {
      "text/plain": [
       "<matplotlib.axes._subplots.AxesSubplot at 0x7fce2bb68080>"
      ]
     },
     "execution_count": 32,
     "metadata": {},
     "output_type": "execute_result"
    },
    {
     "data": {
      "image/png": "[encoded data removed]",
      "text/plain": [
       "<Figure size 432x288 with 1 Axes>"
      ]
     },
     "metadata": {},
     "output_type": "display_data"
    }
   ],
   "source": [
    "# Since the young boys were not so eagerly saved, it's worth taking a closer look at them.\n",
    "print(train[train['Title'] == 'Master']['Age'].aggregate(['min','max','mean','median']))\n",
    "\n",
    "survived_boys = train[(train['Title'] == 'Master') &\n",
    "                    (train['Survived'] == 1)]\n",
    "dead_boys = train[(train['Title'] == 'Master') &\n",
    "                    (train['Survived'] == 0)]\n",
    "\n",
    "sns.distplot(survived_boys['Age'], bins=5, color='orange')\n",
    "sns.distplot(dead_boys['Age'], bins=5, color='blue')\n",
    "\n",
    "# There is no patter so we could predict which boys survived and which don't."
   ]
  },
  {
   "cell_type": "code",
   "execution_count": 33,
   "metadata": {
    "_uuid": "7201251db50c9334e58d8892d0b8193cef04db30"
   },
   "outputs": [
    {
     "data": {
      "text/html": [
       "<div>\n",
       "<style scoped>\n",
       "    .dataframe tbody tr th:only-of-type {\n",
       "        vertical-align: middle;\n",
       "    }\n",
       "\n",
       "    .dataframe tbody tr th {\n",
       "        vertical-align: top;\n",
       "    }\n",
       "\n",
       "    .dataframe thead th {\n",
       "        text-align: right;\n",
       "    }\n",
       "</style>\n",
       "<table border=\"1\" class=\"dataframe\">\n",
       "  <thead>\n",
       "    <tr style=\"text-align: right;\">\n",
       "      <th>Survived</th>\n",
       "      <th>0</th>\n",
       "      <th>1</th>\n",
       "    </tr>\n",
       "    <tr>\n",
       "      <th>Pclass</th>\n",
       "      <th></th>\n",
       "      <th></th>\n",
       "    </tr>\n",
       "  </thead>\n",
       "  <tbody>\n",
       "    <tr>\n",
       "      <th>1</th>\n",
       "      <td>0</td>\n",
       "      <td>3</td>\n",
       "    </tr>\n",
       "    <tr>\n",
       "      <th>2</th>\n",
       "      <td>0</td>\n",
       "      <td>9</td>\n",
       "    </tr>\n",
       "    <tr>\n",
       "      <th>3</th>\n",
       "      <td>17</td>\n",
       "      <td>11</td>\n",
       "    </tr>\n",
       "  </tbody>\n",
       "</table>\n",
       "</div>"
      ],
      "text/plain": [
       "Survived   0   1\n",
       "Pclass          \n",
       "1          0   3\n",
       "2          0   9\n",
       "3         17  11"
      ]
     },
     "execution_count": 33,
     "metadata": {},
     "output_type": "execute_result"
    },
    {
     "data": {
      "image/png": "[encoded data removed]",
      "text/plain": [
       "<Figure size 411.875x360 with 1 Axes>"
      ]
     },
     "metadata": {},
     "output_type": "display_data"
    }
   ],
   "source": [
    "# How class and age of boys were connected with their survival?\n",
    "sns.catplot(x='Pclass', y='Age', hue='Survived', data=train[train['Title'] == 'Master'], \n",
    "            kind='violin', split='ture')\n",
    "pd.crosstab(train[train['Title'] == 'Master']['Pclass'],train[train['Title'] == 'Master']['Survived'])\n",
    "\n",
    "# Young boys were saved in first place only if\n",
    "# they traveled in 1st or 2nd class (every one of them survived)."
   ]
  },
  {
   "cell_type": "code",
   "execution_count": 34,
   "metadata": {
    "_uuid": "9328fa309b70d2a211cb1f01d7f54d1336efd3aa"
   },
   "outputs": [],
   "source": [
    "# Before training model, it is better to chnage Fare from numerical values to some categories.\n",
    "# Lets asume below categories:\n",
    "# (79+]     = very_high\n",
    "# (44-79]   = high\n",
    "# (19-44]   = above_average\n",
    "# (9-19]    = normal\n",
    "# (-1-9]    = cheap\n",
    "# NaN       = unknown\n",
    "\n",
    "# Create bins and corresponding categories\n",
    "fare_bins = [-20, -1, 9, 19, 44, 79, 700]\n",
    "fare_bins_cat = ['unknown','cheap','normal','above_average','high','very_high']\n",
    "\n",
    "# Fill in missing values with value -10\n",
    "train['Fare'] = train['Fare'].fillna(-10)\n",
    "test['Fare'] = test['Fare'].fillna(-10)\n",
    "\n",
    "# Create new feature FareBin\n",
    "train['FareBin'] = pd.cut(train['Fare'], fare_bins, labels=fare_bins_cat)\n",
    "test['FareBin'] = pd.cut(test['Fare'], fare_bins, labels=fare_bins_cat)"
   ]
  },
  {
   "cell_type": "code",
   "execution_count": 35,
   "metadata": {
    "_uuid": "62fc41a6f03c5d0fdeafd1c5b77404ce22cf3bcb"
   },
   "outputs": [
    {
     "data": {
      "text/plain": [
       "<matplotlib.axes._subplots.AxesSubplot at 0x7fce295a2198>"
      ]
     },
     "execution_count": 35,
     "metadata": {},
     "output_type": "execute_result"
    },
    {
     "data": {
      "image/png": "[encoded data removed]",
      "text/plain": [
       "<Figure size 432x288 with 1 Axes>"
      ]
     },
     "metadata": {},
     "output_type": "display_data"
    }
   ],
   "source": [
    "# Is fare range connected with survival?\n",
    "sns.countplot('FareBin', hue='Survived', data=train)\n",
    "\n",
    "# What we already known: higher price, higher survival rate"
   ]
  },
  {
   "cell_type": "code",
   "execution_count": 36,
   "metadata": {
    "_uuid": "ed9c0b81891416f7850e0360013f40a457a38e90"
   },
   "outputs": [],
   "source": [
    "# Get Ticket prefix\n",
    "#train['TicketPrefix'] = train['Ticket'].apply(lambda x: re.search('([A-z]+.*)( )', x).group(1)\n",
    "#                                              .replace('.','').replace(' ','') \n",
    "#                                              if re.search('[A-z]+.* ', x) != None \n",
    "#                                              else 'NUMBER')"
   ]
  },
  {
   "cell_type": "markdown",
   "metadata": {
    "_uuid": "671445bc60f070cebae285d398e607f5ce1b3f29"
   },
   "source": [
    "Feature preparation"
   ]
  },
  {
   "cell_type": "code",
   "execution_count": 37,
   "metadata": {
    "_uuid": "0e1ab0c3f60f4345b91263bf509925beb8fbbb2a"
   },
   "outputs": [],
   "source": [
    "# We need to save passengerId from test set, because it will be needed in creating the output file.\n",
    "passengerId = test['PassengerId']\n",
    "\n",
    "# Firstly lets remove all unnecessary features\n",
    "features_to_remove = ['PassengerId','Ticket','Cabin','Name','Age','Fare']\n",
    "train.drop(features_to_remove, axis=1, inplace=True)\n",
    "test.drop(features_to_remove, axis=1, inplace=True)"
   ]
  },
  {
   "cell_type": "code",
   "execution_count": 38,
   "metadata": {
    "_uuid": "132b72e32a1e422dbd5f1033b82b72da3f69a2cb"
   },
   "outputs": [],
   "source": [
    "# Secondly we need to convert categorical features (objects) to numerical ones before fitting the model\n",
    "# There are two possibilities to achive this, use pandas get_dummies or use LabelEncoder.\n",
    "# I will use LabelEncoder to keep the number of fatures low.\n",
    "# To keep code clean I will create simple function that will encode selected features.\n",
    "def encode_feature(train, test, features):\n",
    "    data_combined = pd.concat([train[features], test[features]])\n",
    "    for feature in features:\n",
    "        label_encoder = LabelEncoder().fit(data_combined[feature])\n",
    "        train[feature] = label_encoder.transform(train[feature])\n",
    "        test[feature] = label_encoder.transform(test[feature])\n",
    "    return train, test\n",
    "\n",
    "train, test = encode_feature(train, test, ['Sex','Embarked','AgeBin','Deck','Title','FareBin'])"
   ]
  },
  {
   "cell_type": "code",
   "execution_count": 39,
   "metadata": {
    "_uuid": "66b16ab4690191a8c3312d6c71a2928f078c7f60"
   },
   "outputs": [
    {
     "data": {
      "text/html": [
       "<div>\n",
       "<style scoped>\n",
       "    .dataframe tbody tr th:only-of-type {\n",
       "        vertical-align: middle;\n",
       "    }\n",
       "\n",
       "    .dataframe tbody tr th {\n",
       "        vertical-align: top;\n",
       "    }\n",
       "\n",
       "    .dataframe thead th {\n",
       "        text-align: right;\n",
       "    }\n",
       "</style>\n",
       "<table border=\"1\" class=\"dataframe\">\n",
       "  <thead>\n",
       "    <tr style=\"text-align: right;\">\n",
       "      <th></th>\n",
       "      <th>Survived</th>\n",
       "      <th>Pclass</th>\n",
       "      <th>Sex</th>\n",
       "      <th>SibSp</th>\n",
       "      <th>Parch</th>\n",
       "      <th>Embarked</th>\n",
       "      <th>AgeBin</th>\n",
       "      <th>FamilySize</th>\n",
       "      <th>Deck</th>\n",
       "      <th>Title</th>\n",
       "      <th>FareBin</th>\n",
       "    </tr>\n",
       "  </thead>\n",
       "  <tbody>\n",
       "    <tr>\n",
       "      <th>0</th>\n",
       "      <td>0</td>\n",
       "      <td>3</td>\n",
       "      <td>1</td>\n",
       "      <td>1</td>\n",
       "      <td>0</td>\n",
       "      <td>2</td>\n",
       "      <td>2</td>\n",
       "      <td>1</td>\n",
       "      <td>8</td>\n",
       "      <td>3</td>\n",
       "      <td>1</td>\n",
       "    </tr>\n",
       "    <tr>\n",
       "      <th>1</th>\n",
       "      <td>1</td>\n",
       "      <td>1</td>\n",
       "      <td>0</td>\n",
       "      <td>1</td>\n",
       "      <td>0</td>\n",
       "      <td>0</td>\n",
       "      <td>3</td>\n",
       "      <td>1</td>\n",
       "      <td>2</td>\n",
       "      <td>4</td>\n",
       "      <td>2</td>\n",
       "    </tr>\n",
       "    <tr>\n",
       "      <th>2</th>\n",
       "      <td>1</td>\n",
       "      <td>3</td>\n",
       "      <td>0</td>\n",
       "      <td>0</td>\n",
       "      <td>0</td>\n",
       "      <td>2</td>\n",
       "      <td>2</td>\n",
       "      <td>0</td>\n",
       "      <td>8</td>\n",
       "      <td>2</td>\n",
       "      <td>1</td>\n",
       "    </tr>\n",
       "    <tr>\n",
       "      <th>3</th>\n",
       "      <td>1</td>\n",
       "      <td>1</td>\n",
       "      <td>0</td>\n",
       "      <td>1</td>\n",
       "      <td>0</td>\n",
       "      <td>2</td>\n",
       "      <td>3</td>\n",
       "      <td>1</td>\n",
       "      <td>2</td>\n",
       "      <td>4</td>\n",
       "      <td>2</td>\n",
       "    </tr>\n",
       "    <tr>\n",
       "      <th>4</th>\n",
       "      <td>0</td>\n",
       "      <td>3</td>\n",
       "      <td>1</td>\n",
       "      <td>0</td>\n",
       "      <td>0</td>\n",
       "      <td>2</td>\n",
       "      <td>3</td>\n",
       "      <td>0</td>\n",
       "      <td>8</td>\n",
       "      <td>3</td>\n",
       "      <td>1</td>\n",
       "    </tr>\n",
       "  </tbody>\n",
       "</table>\n",
       "</div>"
      ],
      "text/plain": [
       "   Survived  Pclass  Sex  SibSp   ...     FamilySize  Deck  Title  FareBin\n",
       "0         0       3    1      1   ...              1     8      3        1\n",
       "1         1       1    0      1   ...              1     2      4        2\n",
       "2         1       3    0      0   ...              0     8      2        1\n",
       "3         1       1    0      1   ...              1     2      4        2\n",
       "4         0       3    1      0   ...              0     8      3        1\n",
       "\n",
       "[5 rows x 11 columns]"
      ]
     },
     "execution_count": 39,
     "metadata": {},
     "output_type": "execute_result"
    }
   ],
   "source": [
    "# Lets check our data after encoding features\n",
    "train.head()"
   ]
  },
  {
   "cell_type": "code",
   "execution_count": 40,
   "metadata": {
    "_uuid": "848679ed1f7bfd72093570b01aaed0113393fd17"
   },
   "outputs": [
    {
     "data": {
      "text/plain": [
       "<matplotlib.axes._subplots.AxesSubplot at 0x7fce2bcf7240>"
      ]
     },
     "execution_count": 40,
     "metadata": {},
     "output_type": "execute_result"
    },
    {
     "data": {
      "image/png": "[encoded data removed]",
      "text/plain": [
       "<Figure size 1152x576 with 2 Axes>"
      ]
     },
     "metadata": {},
     "output_type": "display_data"
    }
   ],
   "source": [
    "# Plot correlation of data\n",
    "plt.figure(figsize=(16,8))\n",
    "sns.heatmap(train.corr(), linewidth=.5, annot=True)"
   ]
  },
  {
   "cell_type": "markdown",
   "metadata": {
    "_uuid": "4e1d512fd38dda29d0666357c6917f52be56f78b"
   },
   "source": [
    "Model"
   ]
  },
  {
   "cell_type": "code",
   "execution_count": 41,
   "metadata": {
    "_uuid": "766bb87fd59454be7a9f986e7c2f835602e9f5cc"
   },
   "outputs": [],
   "source": [
    "# Model imports\n",
    "from sklearn.model_selection import train_test_split\n",
    "from sklearn.model_selection import StratifiedKFold\n",
    "from sklearn.model_selection import cross_val_score\n",
    "from sklearn.model_selection import GridSearchCV\n",
    "from sklearn.metrics import accuracy_score\n",
    "from sklearn.metrics import make_scorer\n",
    "\n",
    "from sklearn.ensemble import RandomForestClassifier\n",
    "from sklearn.linear_model import LogisticRegression\n",
    "from xgboost import XGBClassifier"
   ]
  },
  {
   "cell_type": "code",
   "execution_count": 42,
   "metadata": {
    "_uuid": "5598b1033fabc068f4910ffc6f86c39c6b865422"
   },
   "outputs": [],
   "source": [
    "# Get training features (X) and output label (y)\n",
    "X = train.drop(['Survived'], axis=1)\n",
    "y = train['Survived']\n",
    "\n",
    "# Split X data to train and validation sets\n",
    "X_train, X_test, y_train, y_test = train_test_split(X, y, test_size=0.2, random_state=1)\n",
    "\n",
    "# Simple function that evaluate model\n",
    "def score(model, X, y):\n",
    "    cv = StratifiedKFold(n_splits=5, shuffle=True)\n",
    "    scores = cross_val_score(model, X, y, cv=cv)\n",
    "    print(\"Accuracy: %0.2f (+/- %0.2f)\" % (scores.mean(), scores.std()))"
   ]
  },
  {
   "cell_type": "code",
   "execution_count": 43,
   "metadata": {
    "_uuid": "a986f25a2e9a2e93d470020861c1154d7155b0fd"
   },
   "outputs": [
    {
     "name": "stdout",
     "output_type": "stream",
     "text": [
      "Accuracy: 0.79 (+/- 0.02)\n"
     ]
    }
   ],
   "source": [
    "rfc = RandomForestClassifier(random_state=7)\n",
    "score(rfc, X, y)"
   ]
  },
  {
   "cell_type": "code",
   "execution_count": 44,
   "metadata": {
    "_uuid": "f0abb8f2f3840d6a84f6637efe6794b85c95e37c"
   },
   "outputs": [
    {
     "name": "stdout",
     "output_type": "stream",
     "text": [
      "Accuracy: 0.80 (+/- 0.03)\n"
     ]
    }
   ],
   "source": [
    "lr = LogisticRegression(random_state=7)\n",
    "score(lr, X, y)"
   ]
  },
  {
   "cell_type": "code",
   "execution_count": 45,
   "metadata": {
    "_uuid": "068c48a6dde4c1d2db7638b57858042cd5c0123b"
   },
   "outputs": [
    {
     "name": "stdout",
     "output_type": "stream",
     "text": [
      "Accuracy: 0.82 (+/- 0.04)\n"
     ]
    }
   ],
   "source": [
    "xgb = XGBClassifier(random_state=7)\n",
    "score(xgb, X, y)"
   ]
  },
  {
   "cell_type": "markdown",
   "metadata": {
    "_uuid": "74aa5a9a15185a6dde5fe07564bf8f0b0d78ae79"
   },
   "source": [
    "Submition"
   ]
  },
  {
   "cell_type": "code",
   "execution_count": 46,
   "metadata": {
    "_uuid": "639e777f364f48e067d095e2482198e954c164e2"
   },
   "outputs": [],
   "source": [
    "# We will submit predictions from XGBoostClassifier\n",
    "# Fit model with all data\n",
    "xgb.fit(X,y)\n",
    "# Make predictions for test data\n",
    "predictions = xgb.predict(test)\n",
    "\n",
    "# Create submission file\n",
    "submission = pd.DataFrame({\n",
    "        'PassengerId': passengerId,\n",
    "        'Survived': predictions\n",
    "    })\n",
    "submission.to_csv('submission.csv', index=False)"
   ]
  },
  {
   "cell_type": "markdown",
   "metadata": {
    "_uuid": "94eb106c9c36d4fa2c5a53a318a47d533aa17b4a"
   },
   "source": [
    "NOTES:\n",
    "* AgeSentinel - missing age data with strange value (for example -100), so model will know that this data should be treated differently.\n",
    "* Select parameters for the models to boost accuracy.\n",
    "* Change order of categorial features before passing them to LabelEncoder (order is important!)\n",
    "\n",
    "References:\n",
    "* [titanic-eda-keras-nn-pipelines](https://www.kaggle.com/kabure/titanic-eda-keras-nn-pipelines)\n",
    "* [a-comprehensive-ml-workflow-with-python](https://www.kaggle.com/mjbahmani/a-comprehensive-ml-workflow-with-python)"
   ]
  }
 ],
 "metadata": {
  "kernelspec": {
   "display_name": "Python 3",
   "language": "python",
   "name": "python3"
  },
  "language_info": {
   "codemirror_mode": {
    "name": "ipython",
    "version": 3
   },
   "file_extension": ".py",
   "mimetype": "text/x-python",
   "name": "python",
   "nbconvert_exporter": "python",
   "pygments_lexer": "ipython3",
   "version": "3.6.6"
  }
 },
 "nbformat": 4,
 "nbformat_minor": 1
}
